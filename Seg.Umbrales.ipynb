{
 "cells": [
  {
   "cell_type": "code",
   "execution_count": 5,
   "id": "f0a39239",
   "metadata": {},
   "outputs": [],
   "source": [
    "import cv2\n",
    "import numpy as np\n",
    "\n",
    "# Cargar la imagen multiespectral\n",
    "image = cv2.imread(\"NuevoNIR.tif\", cv2.IMREAD_UNCHANGED)\n",
    "\n",
    "# Aplicar el método de Otsu para determinar el umbral óptimo\n",
    "_, binarizada = cv2.threshold(image, 0, 65535, cv2.THRESH_BINARY + cv2.THRESH_OTSU)\n",
    "\n",
    "# Guardar la imagen binarizada\n",
    "cv2.imwrite(\"imagen_binarizadaNIR_OTSU.tif\", binarizada)\n"
   ]
  },
  {
   "cell_type": "code",
   "execution_count": 3,
   "id": "fe6e04af",
   "metadata": {
    "scrolled": false
   },
   "outputs": [
    {
     "data": {
      "text/plain": [
       "True"
      ]
     },
     "execution_count": 3,
     "metadata": {},
     "output_type": "execute_result"
    }
   ],
   "source": [
    "import cv2\n",
    "import numpy as np\n",
    "\n",
    "# Cargar la imagen multiespectral\n",
    "image = cv2.imread(\"Pnir.tif\", cv2.IMREAD_UNCHANGED)\n",
    "\n",
    "# Definir el umbral\n",
    "umbral = 200  # Valor de umbral para la imagen\n",
    "\n",
    "# Realizar el umbralado en la imagen\n",
    "_, binarizada = cv2.threshold(image, umbral, 65535, cv2.THRESH_BINARY)\n",
    "\n",
    "# Guardar la imagen binarizada\n",
    "cv2.imwrite(\"imagen_binarizadaNIR.tif\", binarizada)\n"
   ]
  },
  {
   "cell_type": "code",
   "execution_count": 4,
   "id": "d1e8e473",
   "metadata": {},
   "outputs": [
    {
     "ename": "error",
     "evalue": "OpenCV(4.6.0) c:\\b\\abs_d8ltn27ay8\\croot\\opencv-suite_1676452046667\\work\\modules\\imgproc\\src\\color.simd_helpers.hpp:92: error: (-2:Unspecified error) in function '__cdecl cv::impl::`anonymous-namespace'::CvtHelper<struct cv::impl::`anonymous namespace'::Set<3,4,-1>,struct cv::impl::A0x9caa6b13::Set<1,-1,-1>,struct cv::impl::A0x9caa6b13::Set<0,2,5>,2>::CvtHelper(const class cv::_InputArray &,const class cv::_OutputArray &,int)'\n> Invalid number of channels in input image:\n>     'VScn::contains(scn)'\n> where\n>     'scn' is 1\n",
     "output_type": "error",
     "traceback": [
      "\u001b[1;31m---------------------------------------------------------------------------\u001b[0m",
      "\u001b[1;31merror\u001b[0m                                     Traceback (most recent call last)",
      "Cell \u001b[1;32mIn[4], line 9\u001b[0m\n\u001b[0;32m      6\u001b[0m image \u001b[38;5;241m=\u001b[39m cv2\u001b[38;5;241m.\u001b[39mimread(\u001b[38;5;124m\"\u001b[39m\u001b[38;5;124mPnir.tif\u001b[39m\u001b[38;5;124m\"\u001b[39m, cv2\u001b[38;5;241m.\u001b[39mIMREAD_UNCHANGED)\n\u001b[0;32m      8\u001b[0m \u001b[38;5;66;03m# Convertir la imagen a escala de grises\u001b[39;00m\n\u001b[1;32m----> 9\u001b[0m grayscale_image \u001b[38;5;241m=\u001b[39m \u001b[43mcv2\u001b[49m\u001b[38;5;241;43m.\u001b[39;49m\u001b[43mcvtColor\u001b[49m\u001b[43m(\u001b[49m\u001b[43mimage\u001b[49m\u001b[43m,\u001b[49m\u001b[43m \u001b[49m\u001b[43mcv2\u001b[49m\u001b[38;5;241;43m.\u001b[39;49m\u001b[43mCOLOR_BGR2GRAY\u001b[49m\u001b[43m)\u001b[49m\n\u001b[0;32m     11\u001b[0m \u001b[38;5;66;03m# Definir una semilla inicial\u001b[39;00m\n\u001b[0;32m     12\u001b[0m seed \u001b[38;5;241m=\u001b[39m (\u001b[38;5;241m100\u001b[39m, \u001b[38;5;241m100\u001b[39m)  \u001b[38;5;66;03m# Coordenadas de la semilla\u001b[39;00m\n",
      "\u001b[1;31merror\u001b[0m: OpenCV(4.6.0) c:\\b\\abs_d8ltn27ay8\\croot\\opencv-suite_1676452046667\\work\\modules\\imgproc\\src\\color.simd_helpers.hpp:92: error: (-2:Unspecified error) in function '__cdecl cv::impl::`anonymous-namespace'::CvtHelper<struct cv::impl::`anonymous namespace'::Set<3,4,-1>,struct cv::impl::A0x9caa6b13::Set<1,-1,-1>,struct cv::impl::A0x9caa6b13::Set<0,2,5>,2>::CvtHelper(const class cv::_InputArray &,const class cv::_OutputArray &,int)'\n> Invalid number of channels in input image:\n>     'VScn::contains(scn)'\n> where\n>     'scn' is 1\n"
     ]
    }
   ],
   "source": [
    "import cv2\n",
    "import numpy as np\n",
    "from skimage.segmentation import flood\n",
    "\n",
    "# Cargar la imagen multiespectral\n",
    "image = cv2.imread(\"Pnir.tif\", cv2.IMREAD_UNCHANGED)\n",
    "\n",
    "# Convertir la imagen a escala de grises\n",
    "grayscale_image = cv2.cvtColor(image, cv2.COLOR_BGR2GRAY)\n",
    "\n",
    "# Definir una semilla inicial\n",
    "seed = (100, 100)  # Coordenadas de la semilla\n",
    "\n",
    "# Realizar la segmentación por crecimiento de regiones\n",
    "segmented_image = flood(grayscale_image, seed)\n",
    "\n",
    "# Guardar la imagen segmentada\n",
    "cv2.imwrite(\"imagen_segmentada.tif\", segmented_image)\n"
   ]
  },
  {
   "cell_type": "code",
   "execution_count": 5,
   "id": "d15c25b4",
   "metadata": {},
   "outputs": [
    {
     "data": {
      "text/plain": [
       "True"
      ]
     },
     "execution_count": 5,
     "metadata": {},
     "output_type": "execute_result"
    }
   ],
   "source": [
    "import cv2\n",
    "import numpy as np\n",
    "from skimage.segmentation import flood\n",
    "\n",
    "# Cargar la imagen multiespectral\n",
    "image = cv2.imread(\"Pnir.tif\", cv2.IMREAD_UNCHANGED)\n",
    "\n",
    "# Definir una semilla inicial\n",
    "seed = (100, 100)  # Coordenadas de la semilla\n",
    "\n",
    "# Realizar la segmentación por crecimiento de regiones\n",
    "segmented_image = flood(image, seed)\n",
    "\n",
    "# Convertir la imagen segmentada a un tipo de datos compatible\n",
    "segmented_image = segmented_image.astype(np.uint8)\n",
    "\n",
    "# Guardar la imagen segmentada\n",
    "cv2.imwrite(\"imagen_segmentadaNIR.tif\", segmented_image)\n"
   ]
  },
  {
   "cell_type": "code",
   "execution_count": 8,
   "id": "b3c483e9",
   "metadata": {},
   "outputs": [
    {
     "data": {
      "text/plain": [
       "True"
      ]
     },
     "execution_count": 8,
     "metadata": {},
     "output_type": "execute_result"
    }
   ],
   "source": [
    "import cv2\n",
    "import numpy as np\n",
    "from skimage.segmentation import flood\n",
    "\n",
    "# Cargar la imagen multiespectral\n",
    "image = cv2.imread(\"Pnir.tif\", cv2.IMREAD_UNCHANGED)\n",
    "\n",
    "# Definir una semilla inicial\n",
    "seed = (100,100)  # Coordenadas de la semilla\n",
    "\n",
    "# Definir el umbral de similitud\n",
    "threshold = 200  # Ajusta este valor según tus necesidades\n",
    "\n",
    "# Realizar la segmentación por crecimiento de regiones\n",
    "segmented_image = flood(image, seed, tolerance=threshold)\n",
    "\n",
    "# Convertir la imagen segmentada a valores binarios\n",
    "segmented_image = np.where(segmented_image > 0, 255, 0).astype(np.uint8)\n",
    "\n",
    "# Guardar la imagen segmentada\n",
    "cv2.imwrite(\"imagen_segmentadaNIR.tif\", segmented_image)\n"
   ]
  },
  {
   "cell_type": "code",
   "execution_count": null,
   "id": "5c41afbd",
   "metadata": {},
   "outputs": [],
   "source": [
    "\n"
   ]
  },
  {
   "cell_type": "code",
   "execution_count": null,
   "id": "b219ae08",
   "metadata": {},
   "outputs": [],
   "source": []
  },
  {
   "cell_type": "code",
   "execution_count": null,
   "id": "3988e5c9",
   "metadata": {},
   "outputs": [],
   "source": []
  }
 ],
 "metadata": {
  "kernelspec": {
   "display_name": "Python 3 (ipykernel)",
   "language": "python",
   "name": "python3"
  },
  "language_info": {
   "codemirror_mode": {
    "name": "ipython",
    "version": 3
   },
   "file_extension": ".py",
   "mimetype": "text/x-python",
   "name": "python",
   "nbconvert_exporter": "python",
   "pygments_lexer": "ipython3",
   "version": "3.10.11"
  }
 },
 "nbformat": 4,
 "nbformat_minor": 5
}
