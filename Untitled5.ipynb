{
 "cells": [
  {
   "cell_type": "code",
   "execution_count": null,
   "id": "77904809",
   "metadata": {},
   "outputs": [],
   "source": [
    "import cv2\n",
    "import numpy as np\n",
    "\n",
    "def apply_li_threshold(image):\n",
    "    # Convertir la imagen a escala de grises\n",
    "    gray = cv2.cvtColor(image, cv2.COLOR_BGR2GRAY)\n",
    "\n",
    "    # Calcular el umbral utilizando el método de Li\n",
    "    _, threshold = cv2.threshold(gray, 0, 255, cv2.THRESH_BINARY + cv2.THRESH_OTSU)\n",
    "\n",
    "    return threshold\n",
    "\n",
    "# Cargar una imagen de ejemplo\n",
    "image_path = 'ruta/a/la/imagen.tif'\n",
    "image = cv2.imread(image_path)\n",
    "\n",
    "# Aplicar el umbral de Li\n",
    "thresholded_image = apply_li_threshold(image)\n",
    "\n",
    "# Guardar la imagen umbralizada\n",
    "cv2.imwrite('ruta/para/guardar/imagen_umbralizada.tif', thresholded_image)\n",
    "import cv2\n",
    "import numpy as np\n",
    "\n",
    "def apply_li_threshold(image):\n",
    "    # Convertir la imagen a escala de grises\n",
    "    gray = cv2.cvtColor(image, cv2.COLOR_BGR2GRAY)\n",
    "\n",
    "    # Calcular el umbral utilizando el método de Li\n",
    "    _, threshold = cv2.threshold(gray, 0, 255, cv2.THRESH_BINARY + cv2.THRESH_OTSU)\n",
    "\n",
    "    return threshold\n",
    "\n",
    "# Cargar una imagen de ejemplo\n",
    "image_path = r'NIR.tif'\n",
    "image = cv2.imread(image_path)\n",
    "\n",
    "# Aplicar el umbral de Li\n",
    "thresholded_image = apply_li_threshold(image)\n",
    "\n",
    "# Guardar la imagen umbralizada\n",
    "cv2.imwrite('imagen_umbralizada.tif', thresholded_image)\n"
   ]
  },
  {
   "cell_type": "code",
   "execution_count": null,
   "id": "16a5d279",
   "metadata": {},
   "outputs": [],
   "source": []
  }
 ],
 "metadata": {
  "kernelspec": {
   "display_name": "Python 3 (ipykernel)",
   "language": "python",
   "name": "python3"
  },
  "language_info": {
   "codemirror_mode": {
    "name": "ipython",
    "version": 3
   },
   "file_extension": ".py",
   "mimetype": "text/x-python",
   "name": "python",
   "nbconvert_exporter": "python",
   "pygments_lexer": "ipython3",
   "version": "3.10.11"
  }
 },
 "nbformat": 4,
 "nbformat_minor": 5
}
