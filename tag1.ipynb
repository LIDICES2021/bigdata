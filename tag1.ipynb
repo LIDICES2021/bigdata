{
 "cells": [
  {
   "cell_type": "code",
   "execution_count": 21,
   "id": "07e85bdb",
   "metadata": {},
   "outputs": [],
   "source": [
    "import os\n",
    "import tifffile as tiff\n",
    "import numpy as np\n",
    "import csv\n",
    "\n",
    "# Ruta de la carpeta que contiene las imágenes multiespectrales NIR\n",
    "ruta_carpeta_nir = r\"img\\NIR\"\n",
    "\n",
    "# Ruta de la carpeta que contiene las imágenes binarias de cultivo/suelo\n",
    "ruta_carpeta_binarias =  \"img_KITTLER_NIR\"\n",
    "\n",
    "# Ruta del archivo CSV para guardar los píxeles etiquetados\n",
    "ruta_archivo_csv = \"ruta_archivo_etiquetas.csv\"\n",
    "\n",
    "# Obtener la lista de nombres de archivo de las imágenes multiespectrales NIR\n",
    "nombres_imagenes_nir = os.listdir(ruta_carpeta_nir)\n",
    "\n",
    "# Obtener la lista de nombres de archivo de las imágenes binarias de cultivo/suelo\n",
    "nombres_imagenes_binarias = os.listdir(ruta_carpeta_binarias)\n",
    "\n",
    "# Crear una lista vacía para almacenar los píxeles etiquetados\n",
    "pixeles_etiquetados = []"
   ]
  },
  {
   "cell_type": "code",
   "execution_count": 22,
   "id": "037a66aa",
   "metadata": {},
   "outputs": [],
   "source": [
    "# Procesar cada imagen y etiquetar los píxeles\n",
    "for nombre_imagen_nir, nombre_imagen_binaria in zip(nombres_imagenes_nir, nombres_imagenes_binarias):\n",
    "    # Ruta de la imagen NIR\n",
    "    ruta_imagen_nir = os.path.join(ruta_carpeta_nir, nombre_imagen_nir)\n",
    "    # Ruta de la imagen binaria de cultivo/suelo\n",
    "    ruta_imagen_binaria = os.path.join(ruta_carpeta_binarias, nombre_imagen_binaria)"
   ]
  },
  {
   "cell_type": "code",
   "execution_count": 23,
   "id": "721193c9",
   "metadata": {},
   "outputs": [],
   "source": [
    "    # Leer la imagen NIR\n",
    "    imagen_nir = tiff.imread(ruta_imagen_nir)\n",
    "    # Leer la imagen binaria de cultivo/suelo\n",
    "    imagen_binaria = tiff.imread(ruta_imagen_binaria)\n",
    "    # Obtener las dimensiones de la imagen\n",
    "    filas, columnas = imagen_nir.shape"
   ]
  },
  {
   "cell_type": "code",
   "execution_count": 26,
   "id": "423ced02",
   "metadata": {},
   "outputs": [],
   "source": [
    "    # Recorrer cada píxel de las imágenes\n",
    "    for fila in range(filas):\n",
    "        for columna in range(columnas):\n",
    "            # Obtener el valor de intensidad del píxel en la imagen NIR\n",
    "            intensidad_nir = imagen_nir[fila, columna]\n",
    "            \n",
    "            # Obtener el valor binario del píxel en la imagen binaria\n",
    "            valor_binario = imagen_binaria[fila, columna]\n",
    "            \n",
    "            # Asignar la etiqueta correspondiente al píxel\n",
    "            etiqueta = \"vegetación\" if valor_binario > 0 else \"fondo\"\n",
    "            \n",
    "            # Guardar el valor de intensidad, etiqueta y coordenadas del píxel\n",
    "            pixeles_etiquetados.append((intensidad_nir, etiqueta, fila, columna))"
   ]
  },
  {
   "cell_type": "code",
   "execution_count": 27,
   "id": "d223a557",
   "metadata": {},
   "outputs": [
    {
     "name": "stdout",
     "output_type": "stream",
     "text": [
      "Proceso completado. Los píxeles etiquetados se han guardado en el archivo CSV.\n"
     ]
    }
   ],
   "source": [
    "# Guardar los píxeles etiquetados en un archivo CSV\n",
    "with open(ruta_archivo_csv, \"w\", newline=\"\") as archivo_csv:\n",
    "    escritor_csv = csv.writer(archivo_csv)\n",
    "    escritor_csv.writerow([\"Intensidad NIR\", \"Etiqueta\", \"Fila\", \"Columna\"])\n",
    "    escritor_csv.writerows(pixeles_etiquetados)\n",
    "\n",
    "print(\"Proceso completado. Los píxeles etiquetados se han guardado en el archivo CSV.\")"
   ]
  },
  {
   "cell_type": "code",
   "execution_count": null,
   "id": "b830805a",
   "metadata": {},
   "outputs": [],
   "source": []
  }
 ],
 "metadata": {
  "kernelspec": {
   "display_name": "Python 3 (ipykernel)",
   "language": "python",
   "name": "python3"
  },
  "language_info": {
   "codemirror_mode": {
    "name": "ipython",
    "version": 3
   },
   "file_extension": ".py",
   "mimetype": "text/x-python",
   "name": "python",
   "nbconvert_exporter": "python",
   "pygments_lexer": "ipython3",
   "version": "3.10.11"
  }
 },
 "nbformat": 4,
 "nbformat_minor": 5
}
