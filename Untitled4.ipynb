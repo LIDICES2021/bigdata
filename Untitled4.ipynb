{
 "cells": [
  {
   "cell_type": "code",
   "execution_count": 15,
   "id": "841a63d0",
   "metadata": {},
   "outputs": [],
   "source": [
    "import os\n",
    "import cv2\n",
    "import numpy as np\n",
    "import rasterio\n"
   ]
  },
  {
   "cell_type": "code",
   "execution_count": 16,
   "id": "ade5a060",
   "metadata": {},
   "outputs": [],
   "source": [
    "def calculate_wsi(nir_band, red_band):\n",
    "    # Calcula el índice de estrés hídrico (WSI)\n",
    "    wsi = (nir_band - red_band) / (nir_band + red_band)\n",
    "    \n",
    "    return wsi\n",
    "\n",
    "def calculate_rwc(nir_band, red_band):\n",
    "    # Calcula el contenido relativo de agua (RWC)\n",
    "    rwc = (nir_band - red_band) / (nir_band + red_band)\n",
    "    \n",
    "    return rwc\n"
   ]
  },
  {
   "cell_type": "code",
   "execution_count": 17,
   "id": "115c0788",
   "metadata": {},
   "outputs": [],
   "source": [
    "def label_images(images, low_threshold, high_threshold):\n",
    "    labeled_images = []\n",
    "    \n",
    "    for image in images:\n",
    "        # Obtiene las bandas NIR y RED\n",
    "        nir_band = image[:, :, 0].astype(np.float32)\n",
    "        red_band = image[:, :, 1].astype(np.float32)\n",
    "        \n",
    "        # Calcula el WSI y el RWC para la imagen\n",
    "        wsi = calculate_wsi(nir_band, red_band)\n",
    "        rwc = calculate_rwc(nir_band, red_band)\n",
    "        \n",
    "        # Etiqueta la imagen según los umbrales definidos\n",
    "        if wsi < low_threshold or rwc < low_threshold:\n",
    "            label = \"bajo estrés\"\n",
    "        elif wsi >= high_threshold or rwc >= high_threshold:\n",
    "            label = \"alto estrés\"\n",
    "        else:\n",
    "            label = \"medio estrés\"\n",
    "        \n",
    "        labeled_images.append((image, label))\n",
    "    \n",
    "    return labeled_images\n"
   ]
  },
  {
   "cell_type": "code",
   "execution_count": 18,
   "id": "a3a27cb7",
   "metadata": {},
   "outputs": [],
   "source": [
    "folder_path = \"img\""
   ]
  },
  {
   "cell_type": "code",
   "execution_count": 19,
   "id": "be0978e8",
   "metadata": {},
   "outputs": [],
   "source": [
    "# Lista para almacenar las imágenes multiespectrales\n",
    "multispectral_images = []\n",
    "\n",
    "# Cargar las imágenes multiespectrales desde la carpeta\n",
    "for file in os.listdir(folder_path):\n",
    "    if file.endswith(\".tif\"):\n",
    "        image_path = os.path.join(folder_path, file)\n",
    "        \n",
    "        with rasterio.open(image_path) as dataset:\n",
    "            # Leer las bandas NIR y RED\n",
    "            nir_band = dataset.read(1)\n",
    "            red_band = dataset.read(2)\n",
    "            \n",
    "            # Combina las bandas en una imagen multiespectral\n",
    "            image = np.dstack((nir_band, red_band))\n",
    "            \n",
    "            multispectral_images.append(image)\n"
   ]
  },
  {
   "cell_type": "code",
   "execution_count": 20,
   "id": "09609936",
   "metadata": {},
   "outputs": [],
   "source": [
    "# Define los umbrales para clasificar las imágenes\n",
    "low_threshold = 0.2\n",
    "high_threshold = 0.8\n",
    "\n",
    "# Etiqueta las imágenes según el nivel de estrés hídrico\n",
    "labeled_images = label_images(multispectral_images, low_threshold, high_threshold)"
   ]
  },
  {
   "cell_type": "code",
   "execution_count": 21,
   "id": "a9e42820",
   "metadata": {},
   "outputs": [],
   "source": [
    "# Mostrar los resultados\n",
    "for image, label in labeled_images:\n",
    "    cv2.imshow(label, image)\n",
    "    cv2.waitKey(0)\n",
    "\n",
    "cv2.destroyAllWindows()\n"
   ]
  },
  {
   "cell_type": "code",
   "execution_count": null,
   "id": "7e440371",
   "metadata": {},
   "outputs": [],
   "source": []
  }
 ],
 "metadata": {
  "kernelspec": {
   "display_name": "Python 3 (ipykernel)",
   "language": "python",
   "name": "python3"
  },
  "language_info": {
   "codemirror_mode": {
    "name": "ipython",
    "version": 3
   },
   "file_extension": ".py",
   "mimetype": "text/x-python",
   "name": "python",
   "nbconvert_exporter": "python",
   "pygments_lexer": "ipython3",
   "version": "3.10.11"
  }
 },
 "nbformat": 4,
 "nbformat_minor": 5
}
