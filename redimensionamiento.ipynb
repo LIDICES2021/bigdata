{
 "cells": [
  {
   "cell_type": "code",
   "execution_count": 3,
   "id": "dacc9aa3",
   "metadata": {},
   "outputs": [
    {
     "name": "stdout",
     "output_type": "stream",
     "text": [
      "Imágenes de las bandas multiespectrales cargadas exitosamente.\n"
     ]
    }
   ],
   "source": [
    "import tifffile\n",
    "\n",
    "# Rutas de las imágenes de las bandas multiespectrales en formato TIFF\n",
    "ruta_banda1 = \"recNIR.tif\"\n",
    "ruta_banda2 = \"recRED.tif\"\n",
    "ruta_banda3 = \"recGRE.tif\"\n",
    "ruta_banda4 = \"recREG.tif\"\n",
    "\n",
    "\n",
    "# Cargar las imágenes de las bandas multiespectrales en formato TIFF\n",
    "banda1 = tifffile.imread(ruta_banda1)\n",
    "banda2 = tifffile.imread(ruta_banda2)\n",
    "banda3 = tifffile.imread(ruta_banda3)\n",
    "banda4 = tifffile.imread(ruta_banda4)\n",
    "\n",
    "# Verificar que las imágenes se hayan cargado correctamente\n",
    "if banda1 is None or banda2 is None or banda3 is None or banda4 is None:\n",
    "    print(\"Error al cargar las imágenes de las bandas multiespectrales.\")\n",
    "else:\n",
    "    print(\"Imágenes de las bandas multiespectrales cargadas exitosamente.\")\n"
   ]
  },
  {
   "cell_type": "code",
   "execution_count": 4,
   "id": "2a5c740c",
   "metadata": {},
   "outputs": [
    {
     "name": "stdout",
     "output_type": "stream",
     "text": [
      "Las imágenes tienen diferentes dimensiones. Verifica las resoluciones.\n"
     ]
    }
   ],
   "source": [
    "import cv2\n",
    "\n",
    "# Cargar las imágenes de las bandas multiespectrales\n",
    "banda1 = cv2.imread(ruta_banda1, cv2.IMREAD_UNCHANGED)\n",
    "banda2 = cv2.imread(ruta_banda2, cv2.IMREAD_UNCHANGED)\n",
    "banda3 = cv2.imread(ruta_banda3, cv2.IMREAD_UNCHANGED)\n",
    "banda4 = cv2.imread(ruta_banda4, cv2.IMREAD_UNCHANGED)\n",
    "\n",
    "# Verificar las dimensiones de las imágenes\n",
    "dimensiones = [banda1.shape, banda2.shape, banda3.shape, banda4.shape]\n",
    "tamanio_referencia = dimensiones[0]\n",
    "\n",
    "mismas_dimensiones = all(dim == tamanio_referencia for dim in dimensiones)\n",
    "\n",
    "if mismas_dimensiones:\n",
    "    print(\"Todas las imágenes tienen las mismas dimensiones.\")\n",
    "else:\n",
    "    print(\"Las imágenes tienen diferentes dimensiones. Verifica las resoluciones.\")\n",
    "\n",
    "\n"
   ]
  },
  {
   "cell_type": "code",
   "execution_count": 4,
   "id": "148e1d46",
   "metadata": {},
   "outputs": [
    {
     "name": "stdout",
     "output_type": "stream",
     "text": [
      "Las imágenes tienen diferentes dimensiones. Aplicando corrección de alineación y redimensionamiento...\n",
      "Las imágenes han sido redimensionadas a la misma dimensión.\n",
      "Las imágenes se han guardado correctamente.\n"
     ]
    }
   ],
   "source": [
    "import cv2\n",
    "import numpy as np\n",
    "\n",
    "# Rutas de las imágenes de las bandas multiespectrales\n",
    "ruta_banda1 = \"ROI.tif\"\n",
    "ruta_banda2 = \"ROIred.tif\"\n",
    "ruta_banda3 = \"ROIgre.tif\"\n",
    "ruta_banda4 = \"ROIreg.tif\"\n",
    "\n",
    "\n",
    "# Cargar las imágenes de las bandas multiespectrales como imágenes de 16 bits\n",
    "banda1 = cv2.imread(ruta_banda1, cv2.IMREAD_ANYDEPTH)\n",
    "banda2 = cv2.imread(ruta_banda2, cv2.IMREAD_ANYDEPTH)\n",
    "banda3 = cv2.imread(ruta_banda3, cv2.IMREAD_ANYDEPTH)\n",
    "banda4 = cv2.imread(ruta_banda4, cv2.IMREAD_ANYDEPTH)\n",
    "\n",
    "# Verificar las dimensiones de las imágenes\n",
    "dimensiones = [banda1.shape, banda2.shape, banda3.shape, banda4.shape]\n",
    "tamanio_referencia = dimensiones[0]\n",
    "\n",
    "if all(dim == tamanio_referencia for dim in dimensiones):\n",
    "    print(\"Todas las imágenes tienen las mismas dimensiones.\")\n",
    "else:\n",
    "    print(\"Las imágenes tienen diferentes dimensiones. Aplicando corrección de alineación y redimensionamiento...\")\n",
    "\n",
    "    # Obtener las dimensiones de referencia\n",
    "    alto_referencia, ancho_referencia = tamanio_referencia\n",
    "\n",
    "    # Redimensionar las imágenes al tamaño de referencia\n",
    "    banda1 = cv2.resize(banda1, (ancho_referencia, alto_referencia))\n",
    "    banda2 = cv2.resize(banda2, (ancho_referencia, alto_referencia))\n",
    "    banda3 = cv2.resize(banda3, (ancho_referencia, alto_referencia))\n",
    "    banda4 = cv2.resize(banda4, (ancho_referencia, alto_referencia))\n",
    "\n",
    "    print(\"Las imágenes han sido redimensionadas a la misma dimensión.\")\n",
    "\n",
    "# Guardar las imágenes individuales\n",
    "cv2.imwrite(\"image\\\\NIR_RROI.tif\", banda1)\n",
    "cv2.imwrite(\"image\\\\RED_RROI.tif\", banda2)\n",
    "cv2.imwrite(\"image\\\\GRE_RROI.tif\", banda3)\n",
    "cv2.imwrite(\"image\\\\REG_RROI.tif\", banda4)\n",
    "\n",
    "print(\"Las imágenes se han guardado correctamente.\")\n"
   ]
  },
  {
   "cell_type": "code",
   "execution_count": 7,
   "id": "7c5405d1",
   "metadata": {},
   "outputs": [
    {
     "ename": "AttributeError",
     "evalue": "'NoneType' object has no attribute 'shape'",
     "output_type": "error",
     "traceback": [
      "\u001b[1;31m---------------------------------------------------------------------------\u001b[0m",
      "\u001b[1;31mAttributeError\u001b[0m                            Traceback (most recent call last)",
      "Cell \u001b[1;32mIn[7], line 17\u001b[0m\n\u001b[0;32m     14\u001b[0m banda4 \u001b[38;5;241m=\u001b[39m cv2\u001b[38;5;241m.\u001b[39mimread(ruta_banda4, cv2\u001b[38;5;241m.\u001b[39mIMREAD_ANYDEPTH)\n\u001b[0;32m     16\u001b[0m \u001b[38;5;66;03m# Verificar las dimensiones de las imágenes\u001b[39;00m\n\u001b[1;32m---> 17\u001b[0m dimensiones \u001b[38;5;241m=\u001b[39m [\u001b[43mbanda1\u001b[49m\u001b[38;5;241;43m.\u001b[39;49m\u001b[43mshape\u001b[49m, banda2\u001b[38;5;241m.\u001b[39mshape, banda3\u001b[38;5;241m.\u001b[39mshape, banda4\u001b[38;5;241m.\u001b[39mshape]\n\u001b[0;32m     18\u001b[0m tamanio_referencia \u001b[38;5;241m=\u001b[39m dimensiones[\u001b[38;5;241m0\u001b[39m]\n\u001b[0;32m     20\u001b[0m \u001b[38;5;28;01mif\u001b[39;00m \u001b[38;5;28mall\u001b[39m(dim \u001b[38;5;241m==\u001b[39m tamanio_referencia \u001b[38;5;28;01mfor\u001b[39;00m dim \u001b[38;5;129;01min\u001b[39;00m dimensiones):\n",
      "\u001b[1;31mAttributeError\u001b[0m: 'NoneType' object has no attribute 'shape'"
     ]
    }
   ],
   "source": [
    "import cv2\n",
    "import numpy as np\n",
    "\n",
    "# Rutas de las imágenes de las bandas multiespectrales\n",
    "ruta_banda1 = \"image\\\\NuevoOrtoNIR.tif\"\n",
    "ruta_banda2 = \"image\\\\NuevoOrtoRED.tif\"\n",
    "ruta_banda3 = \"image\\\\NuevoOrtoGRE.tif\"\n",
    "ruta_banda4 = \"image\\\\NuevoOrtoREG.tif\"\n",
    "\n",
    "# Cargar las imágenes de las bandas multiespectrales como imágenes de 16 bits\n",
    "banda1 = cv2.imread(ruta_banda1, cv2.IMREAD_ANYDEPTH)\n",
    "banda2 = cv2.imread(ruta_banda2, cv2.IMREAD_ANYDEPTH)\n",
    "banda3 = cv2.imread(ruta_banda3, cv2.IMREAD_ANYDEPTH)\n",
    "banda4 = cv2.imread(ruta_banda4, cv2.IMREAD_ANYDEPTH)\n",
    "\n",
    "# Verificar las dimensiones de las imágenes\n",
    "dimensiones = [banda1.shape, banda2.shape, banda3.shape, banda4.shape]\n",
    "tamanio_referencia = dimensiones[0]\n",
    "\n",
    "if all(dim == tamanio_referencia for dim in dimensiones):\n",
    "    print(\"Todas las imágenes tienen las mismas dimensiones.\")\n",
    "else:\n",
    "    print(\"Las imágenes tienen diferentes dimensiones. Aplicando corrección de resolución espacial...\")\n",
    "\n",
    "    # Obtener la resolución espacial de referencia\n",
    "    alto_referencia, ancho_referencia = tamanio_referencia\n",
    "\n",
    "    # Redimensionar las imágenes que tienen dimensiones diferentes\n",
    "    for i, dim in enumerate(dimensiones):\n",
    "        if dim != tamanio_referencia:\n",
    "            banda = [banda1, banda2, banda3, banda4][i]\n",
    "            banda = cv2.resize(banda, (ancho_referencia, alto_referencia), interpolation=cv2.INTER_CUBIC)\n",
    "\n",
    "    print(\"Las imágenes han sido redimensionadas.\")\n",
    "\n",
    "# Guardar las imágenes individuales\n",
    "cv2.imwrite(\"image\\\\dimensionesOk\\\\pNIR.tif\", banda1)\n",
    "cv2.imwrite(\"image\\\\dimensionesOk\\\\pRED.tif\", banda2)\n",
    "cv2.imwrite(\"image\\\\dimensionesOk\\\\pGRE.tif\", banda3)\n",
    "cv2.imwrite(\"image\\\\dimensionesOk\\\\pREG.tif\", banda4)\n",
    "\n",
    "print(\"Las imágenes se han guardado correctamente.\")\n"
   ]
  },
  {
   "cell_type": "code",
   "execution_count": 14,
   "id": "2f4c4f8a",
   "metadata": {},
   "outputs": [
    {
     "name": "stdout",
     "output_type": "stream",
     "text": [
      "Dimensiones de la imagen: (2645, 4096)\n",
      "Tipo de datos de la imagen: uint16\n",
      "Dimensiones de la imagen: (2701, 4096)\n",
      "Tipo de datos de la imagen: uint16\n",
      "Dimensiones de la imagen: (2655, 4096)\n",
      "Tipo de datos de la imagen: uint16\n",
      "Dimensiones de la imagen: (2657, 4096)\n",
      "Tipo de datos de la imagen: uint16\n",
      "Forma de la imagen: (2645, 4096)\n",
      "Forma de la imagen: (2701, 4096)\n",
      "Forma de la imagen: (2655, 4096)\n",
      "Forma de la imagen: (2657, 4096)\n"
     ]
    }
   ],
   "source": [
    "import tifffile\n",
    "\n",
    "# Ruta de la imagen TIFF\n",
    "ruta_imagen1 = \"image\\\\dimensionesOk\\\\NIR.tif\"\n",
    "ruta_imagen2 = \"image\\\\dimensionesOk\\\\RED.tif\"\n",
    "ruta_imagen3 = \"image\\\\dimensionesOk\\\\GRE.tif\"\n",
    "ruta_imagen4 = \"image\\\\dimensionesOk\\\\REG.tif\"\n",
    "\n",
    "# Carga la imagen TIFF\n",
    "imagen1 = tifffile.imread(ruta_imagen1)\n",
    "imagen2 = tifffile.imread(ruta_imagen2)\n",
    "imagen3 = tifffile.imread(ruta_imagen3)\n",
    "imagen4 = tifffile.imread(ruta_imagen4)\n",
    "\n",
    "# Muestra información sobre la imagen\n",
    "print(\"Dimensiones de la imagen:\", imagen1.shape)\n",
    "print(\"Tipo de datos de la imagen:\", imagen1.dtype)\n",
    "\n",
    "print(\"Dimensiones de la imagen:\", imagen2.shape)\n",
    "print(\"Tipo de datos de la imagen:\", imagen2.dtype)\n",
    "\n",
    "print(\"Dimensiones de la imagen:\", imagen3.shape)\n",
    "print(\"Tipo de datos de la imagen:\", imagen3.dtype)\n",
    "\n",
    "print(\"Dimensiones de la imagen:\", imagen4.shape)\n",
    "print(\"Tipo de datos de la imagen:\", imagen4.dtype)\n",
    "\n",
    "# Verifica la forma de la imagen\n",
    "print(\"Forma de la imagen:\", imagen1.shape)\n",
    "print(\"Forma de la imagen:\", imagen2.shape)\n",
    "print(\"Forma de la imagen:\", imagen3.shape)\n",
    "print(\"Forma de la imagen:\", imagen4.shape)"
   ]
  },
  {
   "cell_type": "code",
   "execution_count": 16,
   "id": "ce8a0d2e",
   "metadata": {},
   "outputs": [
    {
     "name": "stdout",
     "output_type": "stream",
     "text": [
      "Dimensiones de la imagen: (2645, 4096)\n",
      "Tipo de datos de la imagen: uint16\n",
      "Dimensiones de la imagen: (2645, 4096)\n",
      "Tipo de datos de la imagen: uint16\n",
      "Dimensiones de la imagen: (2645, 4096)\n",
      "Tipo de datos de la imagen: uint16\n",
      "Dimensiones de la imagen: (2645, 4096)\n",
      "Tipo de datos de la imagen: uint16\n",
      "Forma de la imagen: (2645, 4096)\n",
      "Forma de la imagen: (2645, 4096)\n",
      "Forma de la imagen: (2645, 4096)\n",
      "Forma de la imagen: (2645, 4096)\n"
     ]
    }
   ],
   "source": [
    "import tifffile\n",
    "\n",
    "# Ruta de la imagen TIFF\n",
    "ruta_imagen1 = \"image\\\\dimensionesOk\\\\NIR_banda1_aligned.tif\"\n",
    "ruta_imagen2 = \"image\\\\dimensionesOk\\\\RED_banda2_aligned.tif\"\n",
    "ruta_imagen3 = \"image\\\\dimensionesOk\\\\GRE_banda3_aligned.tif\"\n",
    "ruta_imagen4 = \"image\\\\dimensionesOk\\\\REG_banda4_aligned.tif\"\n",
    "\n",
    "# Carga la imagen TIFF\n",
    "imagen1 = tifffile.imread(ruta_imagen1)\n",
    "imagen2 = tifffile.imread(ruta_imagen2)\n",
    "imagen3 = tifffile.imread(ruta_imagen3)\n",
    "imagen4 = tifffile.imread(ruta_imagen4)\n",
    "\n",
    "# Muestra información sobre la imagen\n",
    "print(\"Dimensiones de la imagen:\", imagen1.shape)\n",
    "print(\"Tipo de datos de la imagen:\", imagen1.dtype)\n",
    "\n",
    "print(\"Dimensiones de la imagen:\", imagen2.shape)\n",
    "print(\"Tipo de datos de la imagen:\", imagen2.dtype)\n",
    "\n",
    "print(\"Dimensiones de la imagen:\", imagen3.shape)\n",
    "print(\"Tipo de datos de la imagen:\", imagen3.dtype)\n",
    "\n",
    "print(\"Dimensiones de la imagen:\", imagen4.shape)\n",
    "print(\"Tipo de datos de la imagen:\", imagen4.dtype)\n",
    "\n",
    "# Verifica la forma de la imagen\n",
    "print(\"Forma de la imagen:\", imagen1.shape)\n",
    "print(\"Forma de la imagen:\", imagen2.shape)\n",
    "print(\"Forma de la imagen:\", imagen3.shape)\n",
    "print(\"Forma de la imagen:\", imagen4.shape)"
   ]
  },
  {
   "cell_type": "code",
   "execution_count": null,
   "id": "c8026e26",
   "metadata": {},
   "outputs": [],
   "source": [
    "\n"
   ]
  },
  {
   "cell_type": "code",
   "execution_count": null,
   "id": "94236fed",
   "metadata": {},
   "outputs": [],
   "source": []
  }
 ],
 "metadata": {
  "kernelspec": {
   "display_name": "Python 3 (ipykernel)",
   "language": "python",
   "name": "python3"
  },
  "language_info": {
   "codemirror_mode": {
    "name": "ipython",
    "version": 3
   },
   "file_extension": ".py",
   "mimetype": "text/x-python",
   "name": "python",
   "nbconvert_exporter": "python",
   "pygments_lexer": "ipython3",
   "version": "3.10.11"
  }
 },
 "nbformat": 4,
 "nbformat_minor": 5
}
