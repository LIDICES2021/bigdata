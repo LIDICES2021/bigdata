{
 "cells": [
  {
   "cell_type": "code",
   "execution_count": 2,
   "id": "a7be8d5b",
   "metadata": {},
   "outputs": [],
   "source": [
    "import rasterio\n",
    "import numpy as np\n",
    "\n",
    "nir_image_path = \"NIR_calibrada.tif\"\n",
    "red_image_path = \"RED_calibrada.tif\"\n",
    "green_image_path = \"GRE_calibrada.tif\"\n",
    "red_edge_image_path = \"REG_calibrada.tif\"\n",
    "\n",
    "nir_image = rasterio.open(nir_image_path).read(1)\n",
    "red_image = rasterio.open(red_image_path).read(1)\n",
    "green_image = rasterio.open(green_image_path).read(1)\n",
    "red_edge_image = rasterio.open(red_edge_image_path).read(1)\n"
   ]
  },
  {
   "cell_type": "code",
   "execution_count": 3,
   "id": "21219e80",
   "metadata": {},
   "outputs": [
    {
     "name": "stdout",
     "output_type": "stream",
     "text": [
      "Las imágenes tienen la misma forma.\n",
      "Las imágenes tienen el mismo tipo de datos.\n"
     ]
    }
   ],
   "source": [
    "if nir_image.shape == red_image.shape == green_image.shape == red_edge_image.shape:\n",
    "    print(\"Las imágenes tienen la misma forma.\")\n",
    "else:\n",
    "    print(\"Las imágenes tienen formas diferentes. Verifica tus datos.\")\n",
    "\n",
    "if nir_image.dtype == red_image.dtype == green_image.dtype == red_edge_image.dtype:\n",
    "    print(\"Las imágenes tienen el mismo tipo de datos.\")\n",
    "else:\n",
    "    print(\"Las imágenes tienen tipos de datos diferentes. Verifica tus datos.\")\n"
   ]
  },
  {
   "cell_type": "code",
   "execution_count": 4,
   "id": "44363631",
   "metadata": {},
   "outputs": [
    {
     "name": "stdout",
     "output_type": "stream",
     "text": [
      "Las imágenes tienen la corrección geométrica aplicada.\n"
     ]
    }
   ],
   "source": [
    "if rasterio.open(nir_image_path).transform == rasterio.open(red_image_path).transform == rasterio.open(green_image_path).transform == rasterio.open(red_edge_image_path).transform:\n",
    "    print(\"Las imágenes tienen la corrección geométrica aplicada.\")\n",
    "else:\n",
    "    print(\"Las imágenes no tienen la corrección geométrica aplicada. Verifica tus datos.\")\n"
   ]
  },
  {
   "cell_type": "code",
   "execution_count": 5,
   "id": "f9bf8607",
   "metadata": {},
   "outputs": [
    {
     "name": "stdout",
     "output_type": "stream",
     "text": [
      "Las imágenes no tienen la corrección de radiación aplicada. Verifica tus datos.\n"
     ]
    }
   ],
   "source": [
    "# Realiza una comprobación simple, por ejemplo, verifica si algún valor de píxel en las bandas es igual a cero o negativo.\n",
    "if np.any(nir_image <= 0) or np.any(red_image <= 0) or np.any(green_image <= 0) or np.any(red_edge_image <= 0):\n",
    "    print(\"Las imágenes no tienen la corrección de radiación aplicada. Verifica tus datos.\")\n",
    "else:\n",
    "    print(\"Las imágenes tienen la corrección de radiación aplicada.\")\n"
   ]
  },
  {
   "cell_type": "code",
   "execution_count": null,
   "id": "a676fc90",
   "metadata": {},
   "outputs": [],
   "source": [
    "import cv2\n",
    "import numpy as np\n",
    "\n",
    "# LECTURA DE LAS IMAGENES E HISTOGRAMA\n",
    "I = cv2.imread('NIR_calibrada.tif', cv2.IMREAD_UNCHANGED)\n",
    "cv2.imshow('ORTOMOSAICO BANDA INFRARROJO CERCANO', I[:, :, 1])\n",
    "cv2.waitKey(0)\n",
    "cv2.destroyAllWindows()\n",
    "\n",
    "I2 = cv2.imread('RED.tif', cv2.IMREAD_UNCHANGED)\n",
    "cv2.imshow('ORTOMOSAICO BANDA ROJA', I2[:, :, 1])\n",
    "cv2.waitKey(0)\n",
    "cv2.destroyAllWindows()\n",
    "\n",
    "# CONVERSION A single\n",
    "NIR = np.float32(I)\n",
    "RED = np.float32(I2)\n",
    "\n",
    "# NDVI\n",
    "NDVI = (NIR - RED) / (NIR + RED)\n",
    "cv2.imshow('ÍNDICE VEGETACION DIFERENCIA NORMALIZADO', NDVI[:, :, 1])\n",
    "cv2.waitKey(0)\n",
    "cv2.destroyAllWindows()\n",
    "\n",
    "# SEGMENTACION OTSU INDICE DE VEGETACION DIFERENCIA NORMALIZADO\n",
    "level1, segndvi = cv2.threshold(NDVI, 0, 255, cv2.THRESH_BINARY + cv2.THRESH_OTSU)\n",
    "EN1 = cv2.morphologyEx(segndvi[:, :, 1], cv2.MORPH_OPEN, np.ones((50, 50), np.uint8))\n",
    "cv2.imshow('SEGMENTACION OTSU EN INDICE VEGETACION DIFERENCIA NORMALIZADO', EN1)\n",
    "cv2.waitKey(0)\n",
    "cv2.destroyAllWindows()\n",
    "\n",
    "# VEGETACION SALUDABLE CON UMBRALIZACION BINARIA\n",
    "umbrandvi = NDVI > 0.4\n",
    "sano = cv2.morphologyEx(umbrandvi[:, :, 1], cv2.MORPH_OPEN, np.ones((50, 50), np.uint8))\n",
    "# cv2.imshow('SEGMENTACION DEL CULTIVO SALUDABLE', sano)\n",
    "# cv2.waitKey(0)\n",
    "# cv2.destroyAllWindows()\n",
    "\n",
    "# VEGETACION ESTRESADA VEGETACION SALUDABLE CON UMBRALIZACION BINARIA\n",
    "umbrandvi1 = NDVI > 0.2\n",
    "umbrandvi2 = NDVI < 0.4\n",
    "umbraestresado = umbrandvi1 * umbrandvi2\n",
    "nosano = cv2.morphologyEx(umbraestresado[:, :, 1], cv2.MORPH_OPEN, np.ones((50, 50), np.uint8))\n",
    "# cv2.imshow('SEGMENTACION DEL CULTIVO ESTRESADO', nosano)\n",
    "# cv2.waitKey(0)\n",
    "# cv2.destroyAllWindows()\n",
    "\n",
    "# SEGMENTACION OTSU INFRARROJO\n",
    "level, segnir = cv2.threshold(I, 0, 255, cv2.THRESH_BINARY + cv2.THRESH_OTSU)\n",
    "EN3 = cv2.morphologyEx(segnir[:, :, 1], cv2.MORPH_OPEN, np.ones((50, 50), np.uint8))\n",
    "# cv2.imshow('SEGMENTACION OTSU EN INFRARROJO CERCANO', EN3)\n",
    "# cv2.waitKey(0)\n",
    "# cv2.destroyAllWindows()\n",
    "\n",
    "# LIMITACION DE INTERES DEL CULTIVO SALUDABLE\n",
    "final1 = sano * EN3\n",
    "# cv2.imshow('ZONA DE INTERES DEL CULTIVO SALUDABLE', final1[:, :, 1])\n",
    "# cv2.waitKey(0)\n",
    "# cv2.destroyAllWindows()\n",
    "\n",
    "# LIMITACION DE INTERES DEL CULTIVO ESTRESADO\n",
    "final12 = nosano * EN3\n",
    "cv2.imshow('ZONA DE INTERES DEL CULTIVO ESTRESADO', final12[:, :, 1])\n",
    "cv2.waitKey(0)\n",
    "cv2.destroyAllWindows()\n",
    "\n",
    "# RESALTAR LA PARTE ESTRESADA EN COLORES\n",
    "green = np.zeros(I.shape, dtype=np.uint8)\n",
    "green[:, :, 1] = 255 * final12[:, :, 1]\n",
    "alpha = final12[:, :, 1].astype(np.float32) / 255.0\n",
    "\n",
    "result = I.copy()\n",
    "result[final12 == False] = (result[final12 == False] * (1 - alpha)).astype(np.uint8)\n",
    "result[final12 == True] += green[final12 == True]\n",
    "\n",
    "cv2.imshow('Resaltado de la parte estres"
   ]
  },
  {
   "cell_type": "code",
   "execution_count": null,
   "id": "42cb006d",
   "metadata": {},
   "outputs": [],
   "source": []
  },
  {
   "cell_type": "code",
   "execution_count": 8,
   "id": "99c1d8b3",
   "metadata": {},
   "outputs": [],
   "source": []
  },
  {
   "cell_type": "code",
   "execution_count": null,
   "id": "fc999648",
   "metadata": {},
   "outputs": [],
   "source": []
  }
 ],
 "metadata": {
  "kernelspec": {
   "display_name": "Python 3 (ipykernel)",
   "language": "python",
   "name": "python3"
  },
  "language_info": {
   "codemirror_mode": {
    "name": "ipython",
    "version": 3
   },
   "file_extension": ".py",
   "mimetype": "text/x-python",
   "name": "python",
   "nbconvert_exporter": "python",
   "pygments_lexer": "ipython3",
   "version": "3.10.11"
  }
 },
 "nbformat": 4,
 "nbformat_minor": 5
}
