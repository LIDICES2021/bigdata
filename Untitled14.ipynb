{
 "cells": [
  {
   "cell_type": "code",
   "execution_count": 2,
   "id": "e8bdeefc",
   "metadata": {
    "scrolled": true
   },
   "outputs": [
    {
     "name": "stderr",
     "output_type": "stream",
     "text": [
      "C:\\Users\\lidices\\anaconda3\\envs\\li\\lib\\site-packages\\sklearn\\cluster\\_kmeans.py:870: FutureWarning: The default value of `n_init` will change from 10 to 'auto' in 1.4. Set the value of `n_init` explicitly to suppress the warning\n",
      "  warnings.warn(\n"
     ]
    },
    {
     "name": "stdout",
     "output_type": "stream",
     "text": [
      "K = 3, SSB = 694890.6758310962\n"
     ]
    },
    {
     "name": "stderr",
     "output_type": "stream",
     "text": [
      "C:\\Users\\lidices\\anaconda3\\envs\\li\\lib\\site-packages\\sklearn\\cluster\\_kmeans.py:870: FutureWarning: The default value of `n_init` will change from 10 to 'auto' in 1.4. Set the value of `n_init` explicitly to suppress the warning\n",
      "  warnings.warn(\n"
     ]
    },
    {
     "name": "stdout",
     "output_type": "stream",
     "text": [
      "K = 4, SSB = 710743.5666265633\n"
     ]
    },
    {
     "name": "stderr",
     "output_type": "stream",
     "text": [
      "C:\\Users\\lidices\\anaconda3\\envs\\li\\lib\\site-packages\\sklearn\\cluster\\_kmeans.py:870: FutureWarning: The default value of `n_init` will change from 10 to 'auto' in 1.4. Set the value of `n_init` explicitly to suppress the warning\n",
      "  warnings.warn(\n"
     ]
    },
    {
     "name": "stdout",
     "output_type": "stream",
     "text": [
      "K = 5, SSB = 720077.4961870225\n"
     ]
    },
    {
     "name": "stderr",
     "output_type": "stream",
     "text": [
      "C:\\Users\\lidices\\anaconda3\\envs\\li\\lib\\site-packages\\sklearn\\cluster\\_kmeans.py:870: FutureWarning: The default value of `n_init` will change from 10 to 'auto' in 1.4. Set the value of `n_init` explicitly to suppress the warning\n",
      "  warnings.warn(\n"
     ]
    },
    {
     "name": "stdout",
     "output_type": "stream",
     "text": [
      "K = 6, SSB = 723468.0274139617\n"
     ]
    },
    {
     "name": "stderr",
     "output_type": "stream",
     "text": [
      "C:\\Users\\lidices\\anaconda3\\envs\\li\\lib\\site-packages\\sklearn\\cluster\\_kmeans.py:870: FutureWarning: The default value of `n_init` will change from 10 to 'auto' in 1.4. Set the value of `n_init` explicitly to suppress the warning\n",
      "  warnings.warn(\n"
     ]
    },
    {
     "name": "stdout",
     "output_type": "stream",
     "text": [
      "K = 7, SSB = 725519.9145401\n"
     ]
    },
    {
     "name": "stderr",
     "output_type": "stream",
     "text": [
      "C:\\Users\\lidices\\anaconda3\\envs\\li\\lib\\site-packages\\sklearn\\cluster\\_kmeans.py:870: FutureWarning: The default value of `n_init` will change from 10 to 'auto' in 1.4. Set the value of `n_init` explicitly to suppress the warning\n",
      "  warnings.warn(\n"
     ]
    },
    {
     "name": "stdout",
     "output_type": "stream",
     "text": [
      "K = 8, SSB = 724620.9813214398\n"
     ]
    },
    {
     "name": "stderr",
     "output_type": "stream",
     "text": [
      "C:\\Users\\lidices\\anaconda3\\envs\\li\\lib\\site-packages\\sklearn\\cluster\\_kmeans.py:870: FutureWarning: The default value of `n_init` will change from 10 to 'auto' in 1.4. Set the value of `n_init` explicitly to suppress the warning\n",
      "  warnings.warn(\n"
     ]
    },
    {
     "name": "stdout",
     "output_type": "stream",
     "text": [
      "K = 9, SSB = 727094.230831631\n"
     ]
    }
   ],
   "source": [
    "import numpy as np\n",
    "from skimage import io, img_as_float, color\n",
    "from sklearn.cluster import KMeans\n",
    "\n",
    "def calculate_ssb(X, labels, centroids):\n",
    "    ssb = 0\n",
    "    overall_centroid = np.mean(X, axis=0)\n",
    "    for label, centroid in zip(np.unique(labels), centroids):\n",
    "        n_j = np.sum(labels == label)\n",
    "        ssb += n_j * np.linalg.norm(centroid - overall_centroid) ** 2\n",
    "    return ssb\n",
    "\n",
    "def segment_image(image_path, k_values):\n",
    "    image = img_as_float(io.imread(image_path))\n",
    "\n",
    "    if len(image.shape) == 3:  # Color image (RGB)\n",
    "        height, width, num_channels = image.shape\n",
    "        X = image.reshape(-1, num_channels)  # Convert image to a 2D array for clustering\n",
    "    else:  # Grayscale image\n",
    "        height, width = image.shape\n",
    "        X = image.reshape(-1, 1)  # Convert image to a 2D array with a single channel for clustering\n",
    "\n",
    "    for k in k_values:\n",
    "        kmeans = KMeans(n_clusters=k, random_state=42)\n",
    "        kmeans.fit(X)\n",
    "        labels = kmeans.labels_\n",
    "        centroids = kmeans.cluster_centers_\n",
    "\n",
    "        ssb = calculate_ssb(X, labels, centroids)\n",
    "        print(f\"K = {k}, SSB = {ssb}\")\n",
    "\n",
    "        # Assign the cluster centers to the image pixels\n",
    "        segmented_image = centroids[labels].reshape(height, width, -1)\n",
    "\n",
    "        if len(segmented_image.shape) == 2:  # Grayscale image\n",
    "            segmented_image = segmented_image[:, :, np.newaxis]  # Add a third dimension for channels\n",
    "\n",
    "        # Save segmented image\n",
    "        output_filename = f\"segmented_K-means_k={k}.tif\"\n",
    "        io.imsave(output_filename, segmented_image)\n",
    "\n",
    "if __name__ == \"__main__\":\n",
    "    image_path = \"dnir.tif\"  # Replace with the path to your .tif image\n",
    "    k_values = [3, 4, 5, 6, 7, 8, 9]\n",
    "    segment_image(image_path, k_values)\n"
   ]
  },
  {
   "cell_type": "code",
   "execution_count": 4,
   "id": "eb42e515",
   "metadata": {},
   "outputs": [
    {
     "name": "stderr",
     "output_type": "stream",
     "text": [
      "C:\\Users\\lidices\\anaconda3\\envs\\li\\lib\\site-packages\\sklearn\\cluster\\_kmeans.py:870: FutureWarning: The default value of `n_init` will change from 10 to 'auto' in 1.4. Set the value of `n_init` explicitly to suppress the warning\n",
      "  warnings.warn(\n",
      "C:\\Users\\lidices\\AppData\\Local\\Temp\\ipykernel_5520\\140753145.py:29: ConvergenceWarning: Number of distinct clusters (2) found smaller than n_clusters (4). Possibly due to duplicate points in X.\n",
      "  kmeans.fit(X)\n"
     ]
    },
    {
     "name": "stdout",
     "output_type": "stream",
     "text": [
      "SSW = 3.926702023374431e-18\n"
     ]
    }
   ],
   "source": [
    "import numpy as np\n",
    "from skimage import io, img_as_float\n",
    "from skimage.filters import threshold_otsu\n",
    "from sklearn.cluster import KMeans\n",
    "from sklearn.metrics import pairwise_distances\n",
    "\n",
    "# Función para calcular la métrica SSW\n",
    "def calculate_ssw(X, labels, centroids):\n",
    "    ssw = 0\n",
    "    for i in range(len(np.unique(labels))):\n",
    "        cluster_points = X[labels == i]\n",
    "        centroid = centroids[i]\n",
    "        ssw += np.sum(pairwise_distances(cluster_points, [centroid], metric='euclidean')**2)\n",
    "    return ssw\n",
    "\n",
    "# Cargar la imagen en escala de grises\n",
    "image_path = \"dnir.tif\"  # Reemplaza con la ruta de tu imagen\n",
    "image = img_as_float(io.imread(image_path, as_gray=True))\n",
    "\n",
    "# Aplicar umbralización Otsu para obtener una imagen binaria\n",
    "umbral = threshold_otsu(image)\n",
    "binary_image = image > umbral\n",
    "\n",
    "# Reshape la imagen binaria a un array 1D para el clustering\n",
    "X = binary_image.reshape(-1, 1)\n",
    "\n",
    "# Aplicar K-Means para obtener etiquetas de clústeres y centroides\n",
    "kmeans = KMeans(n_clusters=4, random_state=42)\n",
    "kmeans.fit(X)\n",
    "etiquetas = kmeans.labels_\n",
    "centroides = kmeans.cluster_centers_\n",
    "\n",
    "# Calcular la métrica SSW\n",
    "ssw = calculate_ssw(X, etiquetas, centroides)\n",
    "\n",
    "print(f\"SSW = {ssw}\")\n"
   ]
  },
  {
   "cell_type": "code",
   "execution_count": 5,
   "id": "52bc1e0b",
   "metadata": {},
   "outputs": [
    {
     "name": "stderr",
     "output_type": "stream",
     "text": [
      "C:\\Users\\lidices\\anaconda3\\envs\\li\\lib\\site-packages\\sklearn\\cluster\\_kmeans.py:870: FutureWarning: The default value of `n_init` will change from 10 to 'auto' in 1.4. Set the value of `n_init` explicitly to suppress the warning\n",
      "  warnings.warn(\n",
      "C:\\Users\\lidices\\anaconda3\\envs\\li\\lib\\site-packages\\sklearn\\cluster\\_kmeans.py:870: FutureWarning: The default value of `n_init` will change from 10 to 'auto' in 1.4. Set the value of `n_init` explicitly to suppress the warning\n",
      "  warnings.warn(\n",
      "C:\\Users\\lidices\\AppData\\Local\\Temp\\ipykernel_5520\\2941415053.py:40: ConvergenceWarning: Number of distinct clusters (2) found smaller than n_clusters (4). Possibly due to duplicate points in X.\n",
      "  kmeans.fit(X)\n"
     ]
    },
    {
     "name": "stdout",
     "output_type": "stream",
     "text": [
      "SSW para Otsu = 3.926702023374431e-18\n",
      "SSW para K-Means = 3.927093450794466e-18\n"
     ]
    }
   ],
   "source": [
    "import numpy as np\n",
    "from skimage import io, img_as_float\n",
    "from skimage.filters import threshold_otsu\n",
    "from sklearn.cluster import KMeans\n",
    "from sklearn.metrics import pairwise_distances\n",
    "\n",
    "# Función para calcular la métrica SSW\n",
    "def calculate_ssw(X, labels, centroids):\n",
    "    ssw = 0\n",
    "    for i in range(len(np.unique(labels))):\n",
    "        cluster_points = X[labels == i]\n",
    "        centroid = centroids[i]\n",
    "        ssw += np.sum(pairwise_distances(cluster_points, [centroid], metric='euclidean')**2)\n",
    "    return ssw\n",
    "\n",
    "# Cargar la imagen en escala de grises\n",
    "image_path = \"dnir.tif\"  # Reemplaza con la ruta de tu imagen\n",
    "image = img_as_float(io.imread(image_path, as_gray=True))\n",
    "\n",
    "# Aplicar umbralización Otsu para obtener una imagen binaria\n",
    "umbral = threshold_otsu(image)\n",
    "binary_image = image > umbral\n",
    "\n",
    "# Reshape la imagen binaria a un array 1D para el clustering\n",
    "X = binary_image.reshape(-1, 1)\n",
    "\n",
    "# --- Métrica SSW para el método Otsu ---\n",
    "# Aplicar K-Means para obtener etiquetas de clústeres y centroides\n",
    "kmeans_otsu = KMeans(n_clusters=2, random_state=42)\n",
    "kmeans_otsu.fit(X)\n",
    "etiquetas_otsu = kmeans_otsu.labels_\n",
    "centroides_otsu = kmeans_otsu.cluster_centers_\n",
    "\n",
    "# Calcular la métrica SSW para el método Otsu\n",
    "ssw_otsu = calculate_ssw(X, etiquetas_otsu, centroides_otsu)\n",
    "\n",
    "# --- Métrica SSW para el método K-Means ---\n",
    "# Aplicar K-Means para obtener etiquetas de clústeres y centroides\n",
    "kmeans = KMeans(n_clusters=4, random_state=42)\n",
    "kmeans.fit(X)\n",
    "etiquetas_kmeans = kmeans.labels_\n",
    "centroides_kmeans = kmeans.cluster_centers_\n",
    "\n",
    "# Calcular la métrica SSW para el método K-Means\n",
    "ssw_kmeans = calculate_ssw(X, etiquetas_kmeans, centroides_kmeans)\n",
    "\n",
    "# Imprimir resultados\n",
    "print(f\"SSW para Otsu = {ssw_otsu}\")\n",
    "print(f\"SSW para K-Means = {ssw_kmeans}\")\n"
   ]
  },
  {
   "cell_type": "code",
   "execution_count": 13,
   "id": "258c0468",
   "metadata": {},
   "outputs": [
    {
     "ename": "ValueError",
     "evalue": "the input array must have size 3 along `channel_axis`, got (2100, 2807, 1)",
     "output_type": "error",
     "traceback": [
      "\u001b[1;31m---------------------------------------------------------------------------\u001b[0m",
      "\u001b[1;31mValueError\u001b[0m                                Traceback (most recent call last)",
      "Cell \u001b[1;32mIn[13], line 25\u001b[0m\n\u001b[0;32m     22\u001b[0m \u001b[38;5;66;03m# Cargar cada imagen segmentada y calcular el índice DB para cada k\u001b[39;00m\n\u001b[0;32m     23\u001b[0m \u001b[38;5;28;01mfor\u001b[39;00m path \u001b[38;5;129;01min\u001b[39;00m image_paths:\n\u001b[0;32m     24\u001b[0m     \u001b[38;5;66;03m# Cargar la imagen en escala de grises\u001b[39;00m\n\u001b[1;32m---> 25\u001b[0m     image \u001b[38;5;241m=\u001b[39m \u001b[43mio\u001b[49m\u001b[38;5;241;43m.\u001b[39;49m\u001b[43mimread\u001b[49m\u001b[43m(\u001b[49m\u001b[43mpath\u001b[49m\u001b[43m,\u001b[49m\u001b[43m \u001b[49m\u001b[43mas_gray\u001b[49m\u001b[38;5;241;43m=\u001b[39;49m\u001b[38;5;28;43;01mTrue\u001b[39;49;00m\u001b[43m)\u001b[49m\n\u001b[0;32m     27\u001b[0m     \u001b[38;5;66;03m# Convertir la imagen a un array 1D\u001b[39;00m\n\u001b[0;32m     28\u001b[0m     image_1d \u001b[38;5;241m=\u001b[39m image\u001b[38;5;241m.\u001b[39mflatten()\u001b[38;5;241m.\u001b[39mreshape(\u001b[38;5;241m-\u001b[39m\u001b[38;5;241m1\u001b[39m, \u001b[38;5;241m1\u001b[39m)\n",
      "File \u001b[1;32m~\\anaconda3\\envs\\li\\lib\\site-packages\\skimage\\io\\_io.py:66\u001b[0m, in \u001b[0;36mimread\u001b[1;34m(fname, as_gray, plugin, **plugin_args)\u001b[0m\n\u001b[0;32m     64\u001b[0m         \u001b[38;5;28;01mif\u001b[39;00m img\u001b[38;5;241m.\u001b[39mshape[\u001b[38;5;241m2\u001b[39m] \u001b[38;5;241m==\u001b[39m \u001b[38;5;241m4\u001b[39m:\n\u001b[0;32m     65\u001b[0m             img \u001b[38;5;241m=\u001b[39m rgba2rgb(img)\n\u001b[1;32m---> 66\u001b[0m         img \u001b[38;5;241m=\u001b[39m \u001b[43mrgb2gray\u001b[49m\u001b[43m(\u001b[49m\u001b[43mimg\u001b[49m\u001b[43m)\u001b[49m\n\u001b[0;32m     68\u001b[0m \u001b[38;5;28;01mreturn\u001b[39;00m img\n",
      "File \u001b[1;32m~\\anaconda3\\envs\\li\\lib\\site-packages\\skimage\\_shared\\utils.py:326\u001b[0m, in \u001b[0;36mchannel_as_last_axis.__call__.<locals>.fixed_func\u001b[1;34m(*args, **kwargs)\u001b[0m\n\u001b[0;32m    323\u001b[0m channel_axis \u001b[38;5;241m=\u001b[39m kwargs\u001b[38;5;241m.\u001b[39mget(\u001b[38;5;124m'\u001b[39m\u001b[38;5;124mchannel_axis\u001b[39m\u001b[38;5;124m'\u001b[39m, \u001b[38;5;28;01mNone\u001b[39;00m)\n\u001b[0;32m    325\u001b[0m \u001b[38;5;28;01mif\u001b[39;00m channel_axis \u001b[38;5;129;01mis\u001b[39;00m \u001b[38;5;28;01mNone\u001b[39;00m:\n\u001b[1;32m--> 326\u001b[0m     \u001b[38;5;28;01mreturn\u001b[39;00m func(\u001b[38;5;241m*\u001b[39margs, \u001b[38;5;241m*\u001b[39m\u001b[38;5;241m*\u001b[39mkwargs)\n\u001b[0;32m    328\u001b[0m \u001b[38;5;66;03m# TODO: convert scalars to a tuple in anticipation of eventually\u001b[39;00m\n\u001b[0;32m    329\u001b[0m \u001b[38;5;66;03m#       supporting a tuple of channel axes. Right now, only an\u001b[39;00m\n\u001b[0;32m    330\u001b[0m \u001b[38;5;66;03m#       integer or a single-element tuple is supported, though.\u001b[39;00m\n\u001b[0;32m    331\u001b[0m \u001b[38;5;28;01mif\u001b[39;00m np\u001b[38;5;241m.\u001b[39misscalar(channel_axis):\n",
      "File \u001b[1;32m~\\anaconda3\\envs\\li\\lib\\site-packages\\skimage\\color\\colorconv.py:875\u001b[0m, in \u001b[0;36mrgb2gray\u001b[1;34m(rgb, channel_axis)\u001b[0m\n\u001b[0;32m    834\u001b[0m \u001b[38;5;129m@channel_as_last_axis\u001b[39m(multichannel_output\u001b[38;5;241m=\u001b[39m\u001b[38;5;28;01mFalse\u001b[39;00m)\n\u001b[0;32m    835\u001b[0m \u001b[38;5;28;01mdef\u001b[39;00m \u001b[38;5;21mrgb2gray\u001b[39m(rgb, \u001b[38;5;241m*\u001b[39m, channel_axis\u001b[38;5;241m=\u001b[39m\u001b[38;5;241m-\u001b[39m\u001b[38;5;241m1\u001b[39m):\n\u001b[0;32m    836\u001b[0m \u001b[38;5;250m    \u001b[39m\u001b[38;5;124;03m\"\"\"Compute luminance of an RGB image.\u001b[39;00m\n\u001b[0;32m    837\u001b[0m \n\u001b[0;32m    838\u001b[0m \u001b[38;5;124;03m    Parameters\u001b[39;00m\n\u001b[1;32m   (...)\u001b[0m\n\u001b[0;32m    873\u001b[0m \u001b[38;5;124;03m    >>> img_gray = rgb2gray(img)\u001b[39;00m\n\u001b[0;32m    874\u001b[0m \u001b[38;5;124;03m    \"\"\"\u001b[39;00m\n\u001b[1;32m--> 875\u001b[0m     rgb \u001b[38;5;241m=\u001b[39m \u001b[43m_prepare_colorarray\u001b[49m\u001b[43m(\u001b[49m\u001b[43mrgb\u001b[49m\u001b[43m)\u001b[49m\n\u001b[0;32m    876\u001b[0m     coeffs \u001b[38;5;241m=\u001b[39m np\u001b[38;5;241m.\u001b[39marray([\u001b[38;5;241m0.2125\u001b[39m, \u001b[38;5;241m0.7154\u001b[39m, \u001b[38;5;241m0.0721\u001b[39m], dtype\u001b[38;5;241m=\u001b[39mrgb\u001b[38;5;241m.\u001b[39mdtype)\n\u001b[0;32m    877\u001b[0m     \u001b[38;5;28;01mreturn\u001b[39;00m rgb \u001b[38;5;241m@\u001b[39m coeffs\n",
      "File \u001b[1;32m~\\anaconda3\\envs\\li\\lib\\site-packages\\skimage\\color\\colorconv.py:140\u001b[0m, in \u001b[0;36m_prepare_colorarray\u001b[1;34m(arr, force_copy, channel_axis)\u001b[0m\n\u001b[0;32m    137\u001b[0m \u001b[38;5;28;01mif\u001b[39;00m arr\u001b[38;5;241m.\u001b[39mshape[channel_axis] \u001b[38;5;241m!=\u001b[39m \u001b[38;5;241m3\u001b[39m:\n\u001b[0;32m    138\u001b[0m     msg \u001b[38;5;241m=\u001b[39m (\u001b[38;5;124mf\u001b[39m\u001b[38;5;124m'\u001b[39m\u001b[38;5;124mthe input array must have size 3 along `channel_axis`, \u001b[39m\u001b[38;5;124m'\u001b[39m\n\u001b[0;32m    139\u001b[0m            \u001b[38;5;124mf\u001b[39m\u001b[38;5;124m'\u001b[39m\u001b[38;5;124mgot \u001b[39m\u001b[38;5;132;01m{\u001b[39;00marr\u001b[38;5;241m.\u001b[39mshape\u001b[38;5;132;01m}\u001b[39;00m\u001b[38;5;124m'\u001b[39m)\n\u001b[1;32m--> 140\u001b[0m     \u001b[38;5;28;01mraise\u001b[39;00m \u001b[38;5;167;01mValueError\u001b[39;00m(msg)\n\u001b[0;32m    142\u001b[0m float_dtype \u001b[38;5;241m=\u001b[39m _supported_float_type(arr\u001b[38;5;241m.\u001b[39mdtype)\n\u001b[0;32m    143\u001b[0m \u001b[38;5;28;01mif\u001b[39;00m float_dtype \u001b[38;5;241m==\u001b[39m np\u001b[38;5;241m.\u001b[39mfloat32:\n",
      "\u001b[1;31mValueError\u001b[0m: the input array must have size 3 along `channel_axis`, got (2100, 2807, 1)"
     ]
    }
   ],
   "source": [
    "import numpy as np\n",
    "from skimage import io\n",
    "from sklearn.metrics import davies_bouldin_score\n",
    "\n",
    "# Lista con las rutas de las imágenes segmentadas para cada k (3 a 9)\n",
    "image_paths = [\n",
    "    'segmented_K-means_k=3.tif',\n",
    "    'segmented_K-means_k=4.tif',\n",
    "    'segmented_K-means_k=5.tif',\n",
    "    'segmented_K-means_k=6.tif',\n",
    "    'segmented_K-means_k=7.tif',\n",
    "    'segmented_K-means_k=8.tif',\n",
    "    'segmented_K-means_k=9.tif'\n",
    "]\n",
    "\n",
    "# Lista con los valores de k correspondientes (3 a 9)\n",
    "k_values = list(range(3, 10))\n",
    "\n",
    "# Inicializar lista para almacenar los valores del índice DB\n",
    "db_scores = []\n",
    "\n",
    "# Cargar cada imagen segmentada y calcular el índice DB para cada k\n",
    "for path in image_paths:\n",
    "    # Cargar la imagen en escala de grises\n",
    "    image = io.imread(path, as_gray=True)\n",
    "\n",
    "    # Convertir la imagen a un array 1D\n",
    "    image_1d = image.flatten().reshape(-1, 1)\n",
    "\n",
    "    # Número de clústeres (k) para esta imagen\n",
    "    k = k_values[image_paths.index(path)]\n",
    "\n",
    "    # Calcular el índice Davies-Bouldin para este valor de k\n",
    "    db_score = davies_bouldin_score(image_1d, np.arange(image_1d.shape[0]))\n",
    "    \n",
    "    # Almacenar el resultado en la lista\n",
    "    db_scores.append(db_score)\n",
    "\n",
    "# Imprimir los resultados del índice DB para cada k\n",
    "for k, db_score in zip(k_values, db_scores):\n",
    "    print(f\"K = {k}, Davies-Bouldin Index: {db_score}\")\n"
   ]
  },
  {
   "cell_type": "code",
   "execution_count": null,
   "id": "059f42ff",
   "metadata": {},
   "outputs": [],
   "source": []
  },
  {
   "cell_type": "code",
   "execution_count": null,
   "id": "51043ba4",
   "metadata": {},
   "outputs": [],
   "source": []
  },
  {
   "cell_type": "code",
   "execution_count": null,
   "id": "ed10e3f7",
   "metadata": {},
   "outputs": [],
   "source": []
  },
  {
   "cell_type": "code",
   "execution_count": null,
   "id": "f0121aaa",
   "metadata": {},
   "outputs": [],
   "source": []
  }
 ],
 "metadata": {
  "kernelspec": {
   "display_name": "Python 3 (ipykernel)",
   "language": "python",
   "name": "python3"
  },
  "language_info": {
   "codemirror_mode": {
    "name": "ipython",
    "version": 3
   },
   "file_extension": ".py",
   "mimetype": "text/x-python",
   "name": "python",
   "nbconvert_exporter": "python",
   "pygments_lexer": "ipython3",
   "version": "3.10.11"
  }
 },
 "nbformat": 4,
 "nbformat_minor": 5
}
