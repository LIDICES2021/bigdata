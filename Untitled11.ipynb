{
 "cells": [
  {
   "cell_type": "code",
   "execution_count": 4,
   "id": "4f537fb6",
   "metadata": {},
   "outputs": [],
   "source": [
    "import numpy as np\n",
    "import cv2\n",
    "import matplotlib.pyplot as plt\n",
    "from sklearn.cluster import KMeans\n",
    "from sklearn.metrics import silhouette_score\n",
    "\n",
    "# Carga las imágenes segmentadas con diferentes valores de k\n",
    "\n",
    "image_k3 = cv2.imread('segmented_image_result3.tif', cv2.IMREAD_GRAYSCALE)\n",
    "image_k4 = cv2.imread('segmented_image_result4.tif', cv2.IMREAD_GRAYSCALE)\n",
    "image_k5 = cv2.imread('segmented_image_result5.tif', cv2.IMREAD_GRAYSCALE)\n",
    "image_k6 = cv2.imread('segmented_image_result6.tif', cv2.IMREAD_GRAYSCALE)\n",
    "image_k7 = cv2.imread('segmented_image_result7.tif', cv2.IMREAD_GRAYSCALE)\n",
    "image_k8 = cv2.imread('segmented_image_result8.tif', cv2.IMREAD_GRAYSCALE)\n",
    "image_k9 = cv2.imread('segmented_image_result9.tif', cv2.IMREAD_GRAYSCALE)"
   ]
  },
  {
   "cell_type": "code",
   "execution_count": 5,
   "id": "1f89b0ab",
   "metadata": {},
   "outputs": [],
   "source": [
    "# Lista de imágenes segmentadas con diferentes valores de k\n",
    "segmented_images = [image_k3, image_k4, image_k5, image_k6, image_k7, image_k8, image_k9]  # Reemplaza con tus imágenes segmentadas\n",
    "\n",
    "# Lista de valores de k correspondientes a cada imagen segmentada\n",
    "k_values = [3, 4, 5, 6, 7, 8, 9]  # Reemplaza con los valores de k utilizados\n",
    "\n"
   ]
  },
  {
   "cell_type": "code",
   "execution_count": null,
   "id": "3c191637",
   "metadata": {},
   "outputs": [],
   "source": [
    "# Coeficientes de silueta promedio\n",
    "silhouette_scores = []\n",
    "for image in segmented_images:\n",
    "    flattened_image = image.flatten().reshape(-1, 1)\n",
    "    labels = KMeans(n_clusters=len(np.unique(image))).fit_predict(flattened_image)\n",
    "    silhouette_scores.append(silhouette_score(flattened_image, labels))\n",
    "\n",
    "\n"
   ]
  },
  {
   "cell_type": "code",
   "execution_count": null,
   "id": "523e58f8",
   "metadata": {},
   "outputs": [],
   "source": [
    "# Graficar coeficiente de silueta vs k\n",
    "plt.plot(k_values, silhouette_scores, marker='o')\n",
    "plt.xlabel('Número de clústeres (k)')\n",
    "plt.ylabel('Coeficiente de silueta promedio')\n",
    "plt.title('Coeficiente de silueta')\n",
    "plt.show()"
   ]
  },
  {
   "cell_type": "code",
   "execution_count": null,
   "id": "9e685cde",
   "metadata": {},
   "outputs": [],
   "source": []
  }
 ],
 "metadata": {
  "kernelspec": {
   "display_name": "Python 3 (ipykernel)",
   "language": "python",
   "name": "python3"
  },
  "language_info": {
   "codemirror_mode": {
    "name": "ipython",
    "version": 3
   },
   "file_extension": ".py",
   "mimetype": "text/x-python",
   "name": "python",
   "nbconvert_exporter": "python",
   "pygments_lexer": "ipython3",
   "version": "3.10.11"
  }
 },
 "nbformat": 4,
 "nbformat_minor": 5
}
