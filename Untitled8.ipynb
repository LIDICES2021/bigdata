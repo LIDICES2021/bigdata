{
 "cells": [
  {
   "cell_type": "code",
   "execution_count": 1,
   "id": "dd7a9bbb",
   "metadata": {},
   "outputs": [
    {
     "name": "stdout",
     "output_type": "stream",
     "text": [
      "Número de imágenes cargadas: 156\n"
     ]
    }
   ],
   "source": [
    "import cv2\n",
    "import os\n",
    "\n",
    "# Directorio que contiene las imágenes\n",
    "directorio = r\"J:\\proyecto\\codigos\\image\\UCLV\\NIR\"\n",
    "\n",
    "# Obtener la lista de archivos en el directorio\n",
    "archivos = os.listdir(directorio)\n",
    "\n",
    "# Cargar las imágenes en una lista\n",
    "images = []\n",
    "for archivo in archivos:\n",
    "    # Construir la ruta completa del archivo\n",
    "    ruta_archivo = os.path.join(directorio, archivo)\n",
    "    \n",
    "    # Leer la imagen utilizando OpenCV\n",
    "    image = cv2.imread(ruta_archivo, cv2.IMREAD_UNCHANGED)\n",
    "    \n",
    "    # Agregar la imagen a la lista\n",
    "    images.append(image)\n",
    "\n",
    "# Verificar el número de imágenes cargadas\n",
    "print(\"Número de imágenes cargadas:\", len(images))\n"
   ]
  },
  {
   "cell_type": "code",
   "execution_count": null,
   "id": "553a9b78",
   "metadata": {},
   "outputs": [],
   "source": [
    "# Cargar las imágenes\n",
    "images = []\n",
    "for path in image_paths:\n",
    "    print(\"Cargando imagen:\", path)\n",
    "    image = cv2.imread(path, cv2.IMREAD_UNCHANGED)\n",
    "    images.append(image)\n"
   ]
  },
  {
   "cell_type": "code",
   "execution_count": 6,
   "id": "60c47793",
   "metadata": {},
   "outputs": [
    {
     "ename": "AttributeError",
     "evalue": "'NoneType' object has no attribute 'astype'",
     "output_type": "error",
     "traceback": [
      "\u001b[1;31m---------------------------------------------------------------------------\u001b[0m",
      "\u001b[1;31mAttributeError\u001b[0m                            Traceback (most recent call last)",
      "Cell \u001b[1;32mIn[6], line 35\u001b[0m\n\u001b[0;32m     33\u001b[0m preprocessed_images \u001b[38;5;241m=\u001b[39m []\n\u001b[0;32m     34\u001b[0m \u001b[38;5;28;01mfor\u001b[39;00m image \u001b[38;5;129;01min\u001b[39;00m images:\n\u001b[1;32m---> 35\u001b[0m     preprocessed_image \u001b[38;5;241m=\u001b[39m \u001b[43mpreprocess_image\u001b[49m\u001b[43m(\u001b[49m\u001b[43mimage\u001b[49m\u001b[43m)\u001b[49m\n\u001b[0;32m     36\u001b[0m     preprocessed_images\u001b[38;5;241m.\u001b[39mappend(preprocessed_image)\n",
      "Cell \u001b[1;32mIn[6], line 7\u001b[0m, in \u001b[0;36mpreprocess_image\u001b[1;34m(image)\u001b[0m\n\u001b[0;32m      5\u001b[0m \u001b[38;5;28;01mdef\u001b[39;00m \u001b[38;5;21mpreprocess_image\u001b[39m(image):\n\u001b[0;32m      6\u001b[0m     \u001b[38;5;66;03m# Convertir la imagen a tipo float32 para evitar problemas de desbordamiento\u001b[39;00m\n\u001b[1;32m----> 7\u001b[0m     image \u001b[38;5;241m=\u001b[39m \u001b[43mimage\u001b[49m\u001b[38;5;241;43m.\u001b[39;49m\u001b[43mastype\u001b[49m(np\u001b[38;5;241m.\u001b[39mfloat32)\n\u001b[0;32m      9\u001b[0m     \u001b[38;5;66;03m# Normalización de la imagen entre 0 y 1\u001b[39;00m\n\u001b[0;32m     10\u001b[0m     image_normalized \u001b[38;5;241m=\u001b[39m image \u001b[38;5;241m/\u001b[39m np\u001b[38;5;241m.\u001b[39mmax(image)\n",
      "\u001b[1;31mAttributeError\u001b[0m: 'NoneType' object has no attribute 'astype'"
     ]
    }
   ],
   "source": [
    "import cv2\n",
    "import numpy as np\n",
    "\n",
    "# Función para realizar el preprocesamiento de una imagen\n",
    "def preprocess_image(image):\n",
    "    # Convertir la imagen a tipo float32 para evitar problemas de desbordamiento\n",
    "    image = image.astype(np.float32)\n",
    "    \n",
    "    # Normalización de la imagen entre 0 y 1\n",
    "    image_normalized = image / np.max(image)\n",
    "    \n",
    "    # Ajuste de escala de valores de píxeles\n",
    "    image_scaled = image_normalized * 255\n",
    "    \n",
    "    # Convertir la imagen de tipo float32 a uint8\n",
    "    image_scaled = image_scaled.astype(np.uint8)\n",
    "    \n",
    "    # Aplicar corrección de ruido o distorsión si es necesario\n",
    "    \n",
    "    # Devolver la imagen preprocesada\n",
    "    return image_scaled\n",
    "\n",
    "# Cargar las imágenes multiespectrales (asegúrate de tener las rutas de archivo correctas)\n",
    "image_paths = images  # Aquí debes especificar las rutas de tus 155 imágenes\n",
    "\n",
    "# Cargar las imágenes\n",
    "images = []\n",
    "for path in image_paths:\n",
    "    image = cv2.imread(path, cv2.IMREAD_UNCHANGED)\n",
    "    images.append(image)\n",
    "\n",
    "# Preprocesar cada imagen\n",
    "preprocessed_images = []\n",
    "for image in images:\n",
    "    preprocessed_image = preprocess_image(image)\n",
    "    preprocessed_images.append(preprocessed_image)\n",
    "\n",
    "# Ahora tienes las imágenes preprocesadas listas para aplicar machine learning\n"
   ]
  },
  {
   "cell_type": "code",
   "execution_count": null,
   "id": "0b9583d4",
   "metadata": {},
   "outputs": [],
   "source": []
  }
 ],
 "metadata": {
  "kernelspec": {
   "display_name": "Python 3 (ipykernel)",
   "language": "python",
   "name": "python3"
  },
  "language_info": {
   "codemirror_mode": {
    "name": "ipython",
    "version": 3
   },
   "file_extension": ".py",
   "mimetype": "text/x-python",
   "name": "python",
   "nbconvert_exporter": "python",
   "pygments_lexer": "ipython3",
   "version": "3.10.9"
  }
 },
 "nbformat": 4,
 "nbformat_minor": 5
}
