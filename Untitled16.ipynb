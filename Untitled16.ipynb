{
 "cells": [
  {
   "cell_type": "code",
   "execution_count": null,
   "id": "d7110f1f",
   "metadata": {},
   "outputs": [],
   "source": [
    "import cv2\n",
    "import numpy as np\n",
    "from sklearn.metrics import silhouette_score\n",
    "\n",
    "# Cargar las imágenes segmentadas para diferentes valores de k\n",
    "images_segmented = []\n",
    "for k in range(2, 11):\n",
    "    filename = f'imagen_segmentada_kmeans{k}.tif'\n",
    "    image = cv2.imread(filename, cv2.IMREAD_GRAYSCALE)\n",
    "    images_segmented.append(image)\n",
    "\n",
    "# Normalizar los valores de píxeles para que estén en el rango [0, 1]\n",
    "normalized_images = [image.astype(np.float32) / 65535.0 for image in images_segmented]\n"
   ]
  },
  {
   "cell_type": "code",
   "execution_count": null,
   "id": "e4d08e4a",
   "metadata": {},
   "outputs": [],
   "source": [
    "\n",
    "# Evaluar el Coeficiente de Silueta para cada segmentación\n",
    "best_silhouette_score = -1\n",
    "best_k = None\n",
    "best_clustered_image = None\n",
    "\n",
    "for k, segmented_image in enumerate(normalized_images, start=2):\n",
    "    # Redimensionar la imagen para que tenga una sola dimensión (necesario para el Coeficiente de Silueta)\n",
    "    reshaped_image = segmented_image.reshape(-1, 1)\n",
    "    \n",
    "    # Aplicar K-means para obtener las etiquetas de clústeres\n",
    "    kmeans = KMeans(n_clusters=k, n_init=10, random_state=42)\n",
    "    labels = kmeans.fit_predict(reshaped_image)\n",
    "    \n",
    "    # Calcular el Coeficiente de Silueta para la segmentación con K-means\n",
    "    silhouette = silhouette_score(reshaped_image, labels)\n",
    "    print(f\"Coeficiente de Silueta para k={k}: {silhouette}\")\n",
    "    \n",
    "    if silhouette > best_silhouette_score:\n",
    "        best_silhouette_score = silhouette\n",
    "        best_k = k\n",
    "        best_clustered_image = labels.reshape(images_segmented[k - 2].shape)\n",
    "\n",
    "print(\"Mejor número de clústeres:\", best_k)\n",
    "print(\"Coeficiente de Silueta más alto:\", best_silhouette_score)\n",
    "\n",
    "# Convertir la mejor imagen segmentada a formato uint16 para guardarla en un archivo .tif\n",
    "best_clustered_image = (best_clustered_image * 65535).astype(np.uint16)\n",
    "\n",
    "# Guardar la mejor imagen segmentada en un archivo .tif\n",
    "cv2.imwrite('imagen_segmentada_kmeans_best.tif', best_clustered_image)\n"
   ]
  },
  {
   "cell_type": "code",
   "execution_count": null,
   "id": "5ab58e35",
   "metadata": {},
   "outputs": [],
   "source": []
  }
 ],
 "metadata": {
  "kernelspec": {
   "display_name": "Python 3 (ipykernel)",
   "language": "python",
   "name": "python3"
  },
  "language_info": {
   "codemirror_mode": {
    "name": "ipython",
    "version": 3
   },
   "file_extension": ".py",
   "mimetype": "text/x-python",
   "name": "python",
   "nbconvert_exporter": "python",
   "pygments_lexer": "ipython3",
   "version": "3.10.11"
  }
 },
 "nbformat": 4,
 "nbformat_minor": 5
}
