{
 "cells": [
  {
   "cell_type": "code",
   "execution_count": 17,
   "id": "5a4c217f",
   "metadata": {},
   "outputs": [],
   "source": [
    "import rasterio\n",
    "import numpy as np\n",
    "\n",
    "nir_image_path = \"nir_corrected.tif\"\n",
    "red_image_path = \"red_corrected.tif\"\n",
    "green_image_path = \"green_corrected.tif\"\n",
    "red_edge_image_path = \"red_edge_corrected.tif\"\n",
    "\n",
    "nir_image = rasterio.open(nir_image_path).read(1)\n",
    "red_image = rasterio.open(red_image_path).read(1)\n",
    "green_image = rasterio.open(green_image_path).read(1)\n",
    "red_edge_image = rasterio.open(red_edge_image_path).read(1)"
   ]
  },
  {
   "cell_type": "code",
   "execution_count": 18,
   "id": "eff30a49",
   "metadata": {},
   "outputs": [
    {
     "name": "stdout",
     "output_type": "stream",
     "text": [
      "Las imágenes tienen la misma forma.\n",
      "Las imágenes tienen el mismo tipo de datos.\n"
     ]
    }
   ],
   "source": [
    "if nir_image.shape == red_image.shape == green_image.shape == red_edge_image.shape:\n",
    "    print(\"Las imágenes tienen la misma forma.\")\n",
    "else:\n",
    "    print(\"Las imágenes tienen formas diferentes. Verifica tus datos.\")\n",
    "\n",
    "if nir_image.dtype == red_image.dtype == green_image.dtype == red_edge_image.dtype:\n",
    "    print(\"Las imágenes tienen el mismo tipo de datos.\")\n",
    "else:\n",
    "    print(\"Las imágenes tienen tipos de datos diferentes. Verifica tus datos.\")\n"
   ]
  },
  {
   "cell_type": "code",
   "execution_count": 19,
   "id": "8f0da42e",
   "metadata": {},
   "outputs": [
    {
     "name": "stdout",
     "output_type": "stream",
     "text": [
      "Las imágenes tienen la corrección geométrica aplicada.\n"
     ]
    }
   ],
   "source": [
    "if rasterio.open(nir_image_path).transform == rasterio.open(red_image_path).transform == rasterio.open(green_image_path).transform == rasterio.open(red_edge_image_path).transform:\n",
    "    print(\"Las imágenes tienen la corrección geométrica aplicada.\")\n",
    "else:\n",
    "    print(\"Las imágenes no tienen la corrección geométrica aplicada. Verifica tus datos.\")\n"
   ]
  },
  {
   "cell_type": "code",
   "execution_count": 20,
   "id": "ca01ba6f",
   "metadata": {},
   "outputs": [
    {
     "name": "stdout",
     "output_type": "stream",
     "text": [
      "Las imágenes no tienen la corrección de radiación aplicada. Verifica tus datos.\n"
     ]
    }
   ],
   "source": [
    "# Realiza una comprobación simple, por ejemplo, verifica si algún valor de píxel en las bandas es igual a cero o negativo.\n",
    "if np.any(nir_image <= 0) or np.any(red_image <= 0) or np.any(green_image <= 0) or np.any(red_edge_image <= 0):\n",
    "    print(\"Las imágenes no tienen la corrección de radiación aplicada. Verifica tus datos.\")\n",
    "else:\n",
    "    print(\"Las imágenes tienen la corrección de radiación aplicada.\")\n"
   ]
  },
  {
   "cell_type": "code",
   "execution_count": null,
   "id": "62c0251b",
   "metadata": {},
   "outputs": [],
   "source": []
  }
 ],
 "metadata": {
  "kernelspec": {
   "display_name": "Python 3 (ipykernel)",
   "language": "python",
   "name": "python3"
  },
  "language_info": {
   "codemirror_mode": {
    "name": "ipython",
    "version": 3
   },
   "file_extension": ".py",
   "mimetype": "text/x-python",
   "name": "python",
   "nbconvert_exporter": "python",
   "pygments_lexer": "ipython3",
   "version": "3.10.11"
  }
 },
 "nbformat": 4,
 "nbformat_minor": 5
}
