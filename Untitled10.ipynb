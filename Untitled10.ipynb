{
 "cells": [
  {
   "cell_type": "code",
   "execution_count": null,
   "id": "b6a9254e",
   "metadata": {},
   "outputs": [],
   "source": [
    "import numpy as np\n",
    "from matplotlib.image import imread\n",
    "from sklearn.cluster import KMeans\n",
    "import tifffile\n",
    "\n",
    "# Cargar la imagen\n",
    "image = imread(r\"dnir.tif\")\n",
    "\n",
    "# Obtener las dimensiones de la imagen\n",
    "height, width = image.shape\n",
    "\n",
    "# Reshape la imagen para tener una matriz de píxeles\n",
    "pixels = image.reshape(-1, 1)\n",
    "\n",
    "# Definir el número de clusters (2 en este caso para separar cultivo y suelo)\n",
    "n_clusters = 2\n",
    "\n",
    "# Aplicar K-Means para agrupar los píxeles\n",
    "kmeans = KMeans(n_clusters=n_clusters, n_init=10, random_state=0)\n",
    "kmeans.fit(pixels)\n",
    "\n",
    "# Obtener las etiquetas de los clusters asignados a cada píxel\n",
    "labels = kmeans.labels_\n",
    "\n",
    "# Asignar etiquetas binarias (0 para cultivo y 65535 para suelo)\n",
    "segmented_image = np.zeros_like(pixels, dtype=np.uint16)\n",
    "cultivo_label = np.argmin(np.bincount(labels))  # Determinar la etiqueta del cultivo\n",
    "segmented_image[labels == cultivo_label] = 65535  # Asignar 65535 a los píxeles del cultivo\n",
    "\n",
    "# Reshape la imagen segmentada a las dimensiones originales\n",
    "segmented_image = segmented_image.reshape(height, width)\n",
    "\n",
    "\n",
    "# Guardar el resultado del NDVI en un archivo TIFF\n",
    "tifffile.imsave('segmented_image_result2.tif', segmented_image)\n",
    "\n",
    "\n",
    "# Mostrar la imagen segmentada\n",
    "import matplotlib.pyplot as plt\n",
    "plt.imshow(segmented_image, cmap='gray')\n",
    "plt.axis('off')\n",
    "plt.show()\n"
   ]
  },
  {
   "cell_type": "code",
   "execution_count": null,
   "id": "1851f87f",
   "metadata": {},
   "outputs": [],
   "source": []
  }
 ],
 "metadata": {
  "kernelspec": {
   "display_name": "Python 3 (ipykernel)",
   "language": "python",
   "name": "python3"
  },
  "language_info": {
   "codemirror_mode": {
    "name": "ipython",
    "version": 3
   },
   "file_extension": ".py",
   "mimetype": "text/x-python",
   "name": "python",
   "nbconvert_exporter": "python",
   "pygments_lexer": "ipython3",
   "version": "3.10.11"
  }
 },
 "nbformat": 4,
 "nbformat_minor": 5
}
