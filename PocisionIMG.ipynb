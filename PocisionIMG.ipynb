{
 "cells": [
  {
   "cell_type": "code",
   "execution_count": 1,
   "id": "ea0cee26",
   "metadata": {},
   "outputs": [
    {
     "name": "stdout",
     "output_type": "stream",
     "text": [
      "Las imágenes están en la misma posición.\n"
     ]
    },
    {
     "name": "stderr",
     "output_type": "stream",
     "text": [
      "C:\\Users\\lidices\\anaconda3\\envs\\paper\\lib\\site-packages\\rasterio\\__init__.py:320: NotGeoreferencedWarning: Dataset has no geotransform, gcps, or rpcs. The identity matrix will be returned.\n",
      "  dataset = DatasetReader(path, driver=driver, sharing=sharing, **kwargs)\n"
     ]
    }
   ],
   "source": [
    "import rasterio\n",
    "\n",
    "# Rutas de las imágenes\n",
    "image1_path = 'NIR_banda1.tif'\n",
    "image2_path = 'RED_banda2.tif'\n",
    "\n",
    "# Abrir las imágenes con rasterio\n",
    "with rasterio.open(image1_path) as src1, rasterio.open(image2_path) as src2:\n",
    "    # Obtener las transformaciones de coordenadas\n",
    "    transform1 = src1.transform\n",
    "    transform2 = src2.transform\n",
    "\n",
    "    # Obtener las dimensiones de las imágenes\n",
    "    height1, width1 = src1.shape\n",
    "    height2, width2 = src2.shape\n",
    "\n",
    "    # Calcular las coordenadas de los bordes de las imágenes\n",
    "    ulx1, uly1 = transform1 * (0, 0)\n",
    "    urx1, ury1 = transform1 * (width1, 0)\n",
    "    lrx1, lry1 = transform1 * (width1, height1)\n",
    "    llx1, lly1 = transform1 * (0, height1)\n",
    "\n",
    "    ulx2, uly2 = transform2 * (0, 0)\n",
    "    urx2, ury2 = transform2 * (width2, 0)\n",
    "    lrx2, lry2 = transform2 * (width2, height2)\n",
    "    llx2, lly2 = transform2 * (0, height2)\n",
    "\n",
    "    # Comprobar si las coordenadas de los bordes son iguales\n",
    "    if ulx1 == ulx2 and uly1 == uly2 and urx1 == urx2 and ury1 == ury2 and lrx1 == lrx2 and lry1 == lry2 and llx1 == llx2 and lly1 == lly2:\n",
    "        print(\"Las imágenes están en la misma posición.\")\n",
    "    else:\n",
    "        print(\"Las imágenes no están en la misma posición.\")\n"
   ]
  },
  {
   "cell_type": "code",
   "execution_count": null,
   "id": "0ff7f8bc",
   "metadata": {},
   "outputs": [],
   "source": [
    "\n"
   ]
  },
  {
   "cell_type": "code",
   "execution_count": null,
   "id": "c899320c",
   "metadata": {},
   "outputs": [],
   "source": []
  },
  {
   "cell_type": "code",
   "execution_count": null,
   "id": "1c515864",
   "metadata": {},
   "outputs": [],
   "source": []
  },
  {
   "cell_type": "code",
   "execution_count": null,
   "id": "acb4f08a",
   "metadata": {},
   "outputs": [],
   "source": []
  }
 ],
 "metadata": {
  "kernelspec": {
   "display_name": "Python 3 (ipykernel)",
   "language": "python",
   "name": "python3"
  },
  "language_info": {
   "codemirror_mode": {
    "name": "ipython",
    "version": 3
   },
   "file_extension": ".py",
   "mimetype": "text/x-python",
   "name": "python",
   "nbconvert_exporter": "python",
   "pygments_lexer": "ipython3",
   "version": "3.10.11"
  }
 },
 "nbformat": 4,
 "nbformat_minor": 5
}
