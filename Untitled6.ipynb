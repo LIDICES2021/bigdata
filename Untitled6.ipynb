{
 "cells": [
  {
   "cell_type": "code",
   "execution_count": 29,
   "id": "785aca65",
   "metadata": {},
   "outputs": [
    {
     "name": "stdout",
     "output_type": "stream",
     "text": [
      "Dimensiones de los conjuntos de entrenamiento:\n",
      "X_train: (71,)\n",
      "y_train: (71,)\n",
      "\n",
      "Dimensiones de los conjuntos de prueba:\n",
      "X_test: (18,)\n",
      "y_test: (18,)\n"
     ]
    }
   ],
   "source": [
    "import numpy as np\n",
    "import cv2\n",
    "from sklearn.model_selection import train_test_split\n",
    "\n",
    "# Rutas de las imágenes NIR y binarias\n",
    "nir_images_path = \"img/NIR/\"\n",
    "binary_images_path = \"img_OTSU_NIR\"\n",
    "\n",
    "# Lista para almacenar las imágenes NIR y binarias\n",
    "nir_images = []\n",
    "binary_images = []\n",
    "\n",
    "# Cargar las imágenes NIR y binarias\n",
    "for i in range(1, 90):\n",
    "    # Cargar imagen NIR\n",
    "    nir_image = cv2.imread(nir_images_path + f\"nir_image_{i}.TIF\", cv2.IMREAD_GRAYSCALE)\n",
    "    nir_images.append(nir_image)\n",
    "\n",
    "    # Cargar imagen binaria\n",
    "    binary_image = cv2.imread(binary_images_path + f\"binary_image_{i}.TIF\", cv2.IMREAD_GRAYSCALE)\n",
    "    binary_images.append(binary_image)\n",
    "\n",
    "# Convertir las listas en arreglos numpy\n",
    "nir_images = np.array(nir_images)\n",
    "binary_images = np.array(binary_images)\n",
    "\n",
    "# Verificar que las dimensiones de las imágenes sean las mismas\n",
    "assert nir_images.shape == binary_images.shape, \"Las imágenes no tienen las mismas dimensiones\"\n",
    "\n",
    "# Verificar que las imágenes binarias representen correctamente las áreas de interés\n",
    "# Aquí puedes agregar tu código de verificación\n",
    "\n",
    "# Dividir los datos en conjuntos de entrenamiento y prueba\n",
    "X_train, X_test, y_train, y_test = train_test_split(nir_images, binary_images, test_size=0.2, random_state=42)\n",
    "\n",
    "# Imprimir las dimensiones de los conjuntos de datos\n",
    "print(\"Dimensiones de los conjuntos de entrenamiento:\")\n",
    "print(\"X_train:\", X_train.shape)\n",
    "print(\"y_train:\", y_train.shape)\n",
    "print(\"\\nDimensiones de los conjuntos de prueba:\")\n",
    "print(\"X_test:\", X_test.shape)\n",
    "print(\"y_test:\", y_test.shape)\n"
   ]
  },
  {
   "cell_type": "code",
   "execution_count": 3,
   "id": "4f237797",
   "metadata": {},
   "outputs": [],
   "source": [
    "import os\n",
    "import rasterio\n",
    "import numpy as np\n",
    "import matplotlib.pyplot as plt\n",
    "\n",
    "# Ruta del directorio de imágenes\n",
    "image_directory = r'J:\\proyecto\\codigos\\image\\UCLV\\NIR'\n",
    "\n",
    "# Cargar los nombres de archivo de la banda NIR desde el archivo .txt\n",
    "nir_file = os.path.join(image_directory, 'NIR.txt')\n",
    "\n",
    "# Lista para almacenar las matrices de la banda NIR\n",
    "nir_bands = []\n",
    "\n",
    "# Cargar las imágenes de la banda NIR\n",
    "with open(nir_file, 'r') as file:\n",
    "    image_names = file.readlines()\n",
    "image_names = [name.strip() for name in image_names]\n",
    "\n",
    "for name in image_names:\n",
    "    image_path = os.path.join(image_directory, name)\n",
    "    with rasterio.open(image_path) as dataset:\n",
    "        nir_band = dataset.read(1)\n",
    "        nir_bands.append(nir_band)\n",
    "\n",
    "nir_bands = np.concatenate(nir_bands, axis=0)\n"
   ]
  },
  {
   "cell_type": "code",
   "execution_count": 5,
   "id": "5d21e4b0",
   "metadata": {},
   "outputs": [],
   "source": [
    "import os\n",
    "import rasterio\n",
    "import numpy as np\n",
    "import matplotlib.pyplot as plt\n",
    "\n",
    "# Ruta del directorio de imágenes\n",
    "image_directory = r'J:\\proyecto\\codigos\\image\\UCLV\\RED'\n",
    "\n",
    "# Cargar los nombres de archivo de la banda RED desde el archivo .txt\n",
    "red_file = os.path.join(image_directory, 'RED.txt')\n",
    "\n",
    "# Lista para almacenar las matrices de la banda RED\n",
    "red_bands = []\n",
    "\n",
    "# Cargar las imágenes de la banda RED\n",
    "with open(red_file, 'r') as file:\n",
    "    image_names = file.readlines()\n",
    "image_names1 = [name.strip() for name in image_names]\n",
    "\n",
    "for name in image_names1:\n",
    "    image_path = os.path.join(image_directory, name)\n",
    "    with rasterio.open(image_path) as dataset:\n",
    "        red_band = dataset.read(1)\n",
    "        red_bands.append(red_band)\n",
    "\n",
    "red_bands = np.concatenate(red_bands, axis=0)\n"
   ]
  },
  {
   "cell_type": "code",
   "execution_count": 41,
   "id": "739bb801",
   "metadata": {},
   "outputs": [
    {
     "data": {
      "image/png": "[encoded data removed]",
      "text/plain": [
       "<Figure size 640x480 with 2 Axes>"
      ]
     },
     "metadata": {},
     "output_type": "display_data"
    }
   ],
   "source": [
    "# Calcular el NDVI\n",
    "ndvi = (nir_bands - red_bands) / (nir_bands + red_bands)\n",
    "\n",
    "# Mostrar el NDVI de una imagen (por ejemplo, la primera)\n",
    "ndvi_image = np.expand_dims(ndvi, axis=0)\n",
    "plt.imshow(ndvi_image[0], cmap='RdYlGn')\n",
    "plt.colorbar()\n",
    "plt.title('NDVI')\n",
    "plt.show()\n",
    "\n"
   ]
  },
  {
   "cell_type": "code",
   "execution_count": 38,
   "id": "e58c6fc4",
   "metadata": {},
   "outputs": [],
   "source": [
    "import csv\n",
    "\n",
    "# Ruta del archivo de salida\n",
    "output_file = 'ndvi_results1.csv'\n",
    "\n",
    "# Obtener los nombres de las imágenes NIR y RED\n",
    "nir_image_names = [os.path.splitext(name)[0] for name in image_names]\n",
    "red_image_names = [os.path.splitext(name)[0] for name in image_names1]\n",
    "\n",
    "# Crear una lista de tuplas con el nombre de la imagen y el resultado del NDVI\n",
    "ndvi_results = list(zip(nir_image_names, red_image_names, ndvi.flatten()))\n",
    "\n",
    "# Escribir los resultados en el archivo CSV\n",
    "with open(output_file, 'w', newline='') as csvfile:\n",
    "    writer = csv.writer(csvfile)\n",
    "    writer.writerow(['NIR Image', 'RED Image', 'NDVI'])\n",
    "    writer.writerows(ndvi_results)\n"
   ]
  },
  {
   "cell_type": "code",
   "execution_count": null,
   "id": "3af86d28",
   "metadata": {},
   "outputs": [],
   "source": []
  },
  {
   "cell_type": "code",
   "execution_count": 26,
   "id": "c3510ff6",
   "metadata": {},
   "outputs": [],
   "source": [
    "import numpy as np\n",
    "\n",
    "# Ruta del archivo de salida\n",
    "output_file = 'ndvi_results2.csv'\n",
    "\n",
    "# Obtener las dimensiones de la imagen NDVI\n",
    "rows, cols = ndvi.shape\n",
    "\n",
    "# Crear una matriz para almacenar los resultados\n",
    "ndvi_results = np.zeros((rows * cols, 3))\n",
    "\n",
    "# Aplanar la matriz NDVI y almacenar los resultados\n",
    "ndvi_results[:, 0] = np.repeat(np.arange(rows), cols)  # Fila del píxel\n",
    "ndvi_results[:, 1] = np.tile(np.arange(cols), rows)  # Columna del píxel\n",
    "ndvi_results[:, 2] = ndvi.flatten()  # Valor del NDVI\n",
    "\n",
    "# Guardar los resultados en el archivo CSV\n",
    "np.savetxt(output_file, ndvi_results, fmt='%.0f,%.0f,%.6f', delimiter=',', header='Row,Column,NDVI', comments='')\n",
    "\n"
   ]
  },
  {
   "cell_type": "code",
   "execution_count": 1,
   "id": "15ffd0f5",
   "metadata": {},
   "outputs": [
    {
     "name": "stdout",
     "output_type": "stream",
     "text": [
      "format: TIFF\n",
      "mode: I;16\n",
      "size: (4310, 3354)\n",
      "width: 4310\n",
      "height: 3354\n"
     ]
    }
   ],
   "source": [
    "from PIL import Image\n",
    "\n",
    "# Ruta de la imagen\n",
    "image_path = r'E:\\FlujoTrabajo\\ortomosaico\\1.tif'\n",
    "\n",
    "# Cargar la imagen\n",
    "image = Image.open(image_path)\n",
    "\n",
    "# Obtener los metadatos\n",
    "metadata = {\n",
    "    'format': image.format,\n",
    "    'mode': image.mode,\n",
    "    'size': image.size,\n",
    "    'width': image.width,\n",
    "    'height': image.height,\n",
    "    # Otros metadatos que desees obtener\n",
    "}\n",
    "\n",
    "# Imprimir los metadatos\n",
    "for key, value in metadata.items():\n",
    "    print(f'{key}: {value}')\n"
   ]
  },
  {
   "cell_type": "code",
   "execution_count": null,
   "id": "b91422f8",
   "metadata": {},
   "outputs": [],
   "source": []
  }
 ],
 "metadata": {
  "kernelspec": {
   "display_name": "Python 3 (ipykernel)",
   "language": "python",
   "name": "python3"
  },
  "language_info": {
   "codemirror_mode": {
    "name": "ipython",
    "version": 3
   },
   "file_extension": ".py",
   "mimetype": "text/x-python",
   "name": "python",
   "nbconvert_exporter": "python",
   "pygments_lexer": "ipython3",
   "version": "3.10.11"
  }
 },
 "nbformat": 4,
 "nbformat_minor": 5
}
